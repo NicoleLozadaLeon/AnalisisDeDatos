{
 "cells": [
  {
   "cell_type": "markdown",
   "metadata": {},
   "source": [
    "### Archivo plano"
   ]
  },
  {
   "cell_type": "code",
   "execution_count": 123,
   "metadata": {},
   "outputs": [],
   "source": [
    "import pandas as pd\n",
    "import numpy as np\n",
    "import matplotlib.pyplot as plt\n",
    "import seaborn as sn\n",
    "import requests\n",
    "from bs4 import BeautifulSoup\n",
    "\n",
    "from deep_translator import GoogleTranslator\n"
   ]
  },
  {
   "cell_type": "markdown",
   "metadata": {},
   "source": [
    "### Archivo plano: https://www.kaggle.com/datasets/nelgiriyewithana/countries-of-the-world-2023"
   ]
  },
  {
   "cell_type": "code",
   "execution_count": 124,
   "metadata": {},
   "outputs": [
    {
     "data": {
      "text/html": [
       "<div>\n",
       "<style scoped>\n",
       "    .dataframe tbody tr th:only-of-type {\n",
       "        vertical-align: middle;\n",
       "    }\n",
       "\n",
       "    .dataframe tbody tr th {\n",
       "        vertical-align: top;\n",
       "    }\n",
       "\n",
       "    .dataframe thead th {\n",
       "        text-align: right;\n",
       "    }\n",
       "</style>\n",
       "<table border=\"1\" class=\"dataframe\">\n",
       "  <thead>\n",
       "    <tr style=\"text-align: right;\">\n",
       "      <th></th>\n",
       "      <th>pais</th>\n",
       "      <th>Densidad(P/Km2)-2023</th>\n",
       "    </tr>\n",
       "  </thead>\n",
       "  <tbody>\n",
       "    <tr>\n",
       "      <th>0</th>\n",
       "      <td>Afghanistan</td>\n",
       "      <td>60</td>\n",
       "    </tr>\n",
       "    <tr>\n",
       "      <th>1</th>\n",
       "      <td>Albania</td>\n",
       "      <td>105</td>\n",
       "    </tr>\n",
       "    <tr>\n",
       "      <th>2</th>\n",
       "      <td>Algeria</td>\n",
       "      <td>18</td>\n",
       "    </tr>\n",
       "    <tr>\n",
       "      <th>3</th>\n",
       "      <td>Andorra</td>\n",
       "      <td>164</td>\n",
       "    </tr>\n",
       "    <tr>\n",
       "      <th>4</th>\n",
       "      <td>Angola</td>\n",
       "      <td>26</td>\n",
       "    </tr>\n",
       "    <tr>\n",
       "      <th>...</th>\n",
       "      <td>...</td>\n",
       "      <td>...</td>\n",
       "    </tr>\n",
       "    <tr>\n",
       "      <th>190</th>\n",
       "      <td>Venezuela</td>\n",
       "      <td>32</td>\n",
       "    </tr>\n",
       "    <tr>\n",
       "      <th>191</th>\n",
       "      <td>Vietnam</td>\n",
       "      <td>314</td>\n",
       "    </tr>\n",
       "    <tr>\n",
       "      <th>192</th>\n",
       "      <td>Yemen</td>\n",
       "      <td>56</td>\n",
       "    </tr>\n",
       "    <tr>\n",
       "      <th>193</th>\n",
       "      <td>Zambia</td>\n",
       "      <td>25</td>\n",
       "    </tr>\n",
       "    <tr>\n",
       "      <th>194</th>\n",
       "      <td>Zimbabwe</td>\n",
       "      <td>38</td>\n",
       "    </tr>\n",
       "  </tbody>\n",
       "</table>\n",
       "<p>195 rows × 2 columns</p>\n",
       "</div>"
      ],
      "text/plain": [
       "            pais Densidad(P/Km2)-2023\n",
       "0    Afghanistan                   60\n",
       "1        Albania                  105\n",
       "2        Algeria                   18\n",
       "3        Andorra                  164\n",
       "4         Angola                   26\n",
       "..           ...                  ...\n",
       "190    Venezuela                   32\n",
       "191      Vietnam                  314\n",
       "192        Yemen                   56\n",
       "193       Zambia                   25\n",
       "194     Zimbabwe                   38\n",
       "\n",
       "[195 rows x 2 columns]"
      ]
     },
     "execution_count": 124,
     "metadata": {},
     "output_type": "execute_result"
    }
   ],
   "source": [
    "df_total = pd.read_csv(\"world-data-2023.csv\")\n",
    "\n",
    "densidad_data = df_total.loc[:, df_total.isnull().sum() < 1]\n",
    "densidad_data = densidad_data.rename(columns={'Country':'pais', 'Density\\n(P/Km2)': 'Densidad(P/Km2)-2023'}) \n",
    "densidad_data"
   ]
  },
  {
   "cell_type": "code",
   "execution_count": 125,
   "metadata": {},
   "outputs": [
    {
     "data": {
      "text/html": [
       "<div>\n",
       "<style scoped>\n",
       "    .dataframe tbody tr th:only-of-type {\n",
       "        vertical-align: middle;\n",
       "    }\n",
       "\n",
       "    .dataframe tbody tr th {\n",
       "        vertical-align: top;\n",
       "    }\n",
       "\n",
       "    .dataframe thead th {\n",
       "        text-align: right;\n",
       "    }\n",
       "</style>\n",
       "<table border=\"1\" class=\"dataframe\">\n",
       "  <thead>\n",
       "    <tr style=\"text-align: right;\">\n",
       "      <th></th>\n",
       "      <th>pais</th>\n",
       "      <th>Densidad(P/Km2)-2023</th>\n",
       "    </tr>\n",
       "  </thead>\n",
       "  <tbody>\n",
       "    <tr>\n",
       "      <th>0</th>\n",
       "      <td>Afganistán</td>\n",
       "      <td>60</td>\n",
       "    </tr>\n",
       "    <tr>\n",
       "      <th>1</th>\n",
       "      <td>Albania</td>\n",
       "      <td>105</td>\n",
       "    </tr>\n",
       "    <tr>\n",
       "      <th>2</th>\n",
       "      <td>Argelia</td>\n",
       "      <td>18</td>\n",
       "    </tr>\n",
       "    <tr>\n",
       "      <th>3</th>\n",
       "      <td>Andorra</td>\n",
       "      <td>164</td>\n",
       "    </tr>\n",
       "    <tr>\n",
       "      <th>4</th>\n",
       "      <td>Angola</td>\n",
       "      <td>26</td>\n",
       "    </tr>\n",
       "    <tr>\n",
       "      <th>...</th>\n",
       "      <td>...</td>\n",
       "      <td>...</td>\n",
       "    </tr>\n",
       "    <tr>\n",
       "      <th>190</th>\n",
       "      <td>Venezuela</td>\n",
       "      <td>32</td>\n",
       "    </tr>\n",
       "    <tr>\n",
       "      <th>191</th>\n",
       "      <td>Vietnam</td>\n",
       "      <td>314</td>\n",
       "    </tr>\n",
       "    <tr>\n",
       "      <th>192</th>\n",
       "      <td>Yemen</td>\n",
       "      <td>56</td>\n",
       "    </tr>\n",
       "    <tr>\n",
       "      <th>193</th>\n",
       "      <td>Zambia</td>\n",
       "      <td>25</td>\n",
       "    </tr>\n",
       "    <tr>\n",
       "      <th>194</th>\n",
       "      <td>Zimbabue</td>\n",
       "      <td>38</td>\n",
       "    </tr>\n",
       "  </tbody>\n",
       "</table>\n",
       "<p>195 rows × 2 columns</p>\n",
       "</div>"
      ],
      "text/plain": [
       "           pais Densidad(P/Km2)-2023\n",
       "0    Afganistán                   60\n",
       "1       Albania                  105\n",
       "2       Argelia                   18\n",
       "3       Andorra                  164\n",
       "4        Angola                   26\n",
       "..          ...                  ...\n",
       "190   Venezuela                   32\n",
       "191     Vietnam                  314\n",
       "192       Yemen                   56\n",
       "193      Zambia                   25\n",
       "194    Zimbabue                   38\n",
       "\n",
       "[195 rows x 2 columns]"
      ]
     },
     "execution_count": 125,
     "metadata": {},
     "output_type": "execute_result"
    }
   ],
   "source": [
    "densidad_data['pais'] = densidad_data['pais'].apply(lambda x: GoogleTranslator(source='en', target='es').translate(x))\n",
    "\n",
    "densidad_data"
   ]
  },
  {
   "cell_type": "code",
   "execution_count": 126,
   "metadata": {},
   "outputs": [
    {
     "name": "stdout",
     "output_type": "stream",
     "text": [
      "<class 'pandas.core.frame.DataFrame'>\n",
      "RangeIndex: 195 entries, 0 to 194\n",
      "Data columns (total 2 columns):\n",
      " #   Column                Non-Null Count  Dtype \n",
      "---  ------                --------------  ----- \n",
      " 0   pais                  195 non-null    object\n",
      " 1   Densidad(P/Km2)-2023  195 non-null    object\n",
      "dtypes: object(2)\n",
      "memory usage: 3.2+ KB\n"
     ]
    }
   ],
   "source": [
    "densidad_data.info()"
   ]
  },
  {
   "cell_type": "code",
   "execution_count": 127,
   "metadata": {},
   "outputs": [
    {
     "name": "stdout",
     "output_type": "stream",
     "text": [
      "['Afganistán', 'Albania', 'Argelia', 'Andorra', 'Angola', 'Antigua y Barbuda', 'Argentina', 'Armenia', 'Australia', 'Austria', 'Azerbaiyán', 'Las bahamas', 'Bahrain', 'Bangladesh', 'Barbados', 'Bielorrusia', 'Bélgica', 'Belgo', 'Benin', 'Bután', 'Bolivia', 'Bosnia y Herzegovina', 'Botswana', 'Brasil', 'Brunei', 'Bulgaria', 'Burkina Faso', 'Burundi', 'Costa marfil', 'Cabo Verde', 'Camboya', 'Camerún', 'Canadá', 'República Centroafricana', 'Chad', 'Chile', 'Porcelana', 'Colombia', 'Comoras', 'República del Congo', 'Costa Rica', 'Croacia', 'Cuba', 'Chipre', 'República Checa', 'República Democrática del Congo', 'Dinamarca', 'Djibouti', 'Dominio', 'República Dominicana', 'Ecuador', 'Egipto', 'El Salvador', 'Guinea Ecuatorial', 'Eritrea', 'Estonia', 'Eswatini', 'Etiopía', 'Fiji', 'Finlandia', 'Francia', 'Gabón', 'La gambia', 'Georgia', 'Alemania', 'Ghana', 'Grecia', 'Granada', 'Guatemala', 'Guinea', 'Guinea-Bissau', 'Guayana', 'Haití', 'Ciudad del Vaticano', 'Honduras', 'Hungría', 'Islandia', 'India', 'Indonesia', 'Irán', 'Irak', 'República de Irlanda', 'Israel', 'Italia', 'Jamaica', 'Japón', 'Jordán', 'Kazajstán', 'Kenia', 'Kiribati', 'Kuwait', 'Kirguistán', 'Laos', 'Letonia', 'Líbano', 'Lesoto', 'Liberia', 'Libia', 'Liechtenstein', 'Lituania', 'Luxemburgo', 'Madagascar', 'Malawi', 'Malasia', 'Maldivas', 'Malí', 'Malta', 'Islas Marshall', 'Mauritania', 'Mauricio', 'México', 'Estados federados de Micronesia', 'Moldava', 'Mónaco', 'Mongolia', 'Montenegro', 'Marruecos', 'Mozambique', 'Myanmar', 'Namibia', 'Nauru', 'Nepal', 'Países Bajos', 'Nueva Zelanda', 'Nicaragua', 'Níger', 'Nigeria', 'Corea del Norte', 'Macedonia del Norte', 'Noruega', 'Omán', 'Pakistán', 'Palau', 'Autoridad Nacional Palestina', 'Panamá', 'Papúa Nueva Guinea', 'Paraguay', 'Perú', 'Filipinas', 'Polonia', 'Portugal', 'Katar', 'Rumania', 'Rusia', 'Ruanda', 'Saint Kitts y Nevis', 'Santa Lucía', 'San Vicente y las Granadinas', 'Samoa', 'San Marino', 'S�����������', 'Arabia Saudita', 'Senegal', 'Serbia', 'Seychelles', 'Sierra Leona', 'Singapur', 'Eslovaquia', 'Eslovenia', 'Islas Salomón', 'Somalia', 'Sudáfrica', 'Corea del Sur', 'Sudán del Sur', 'España', 'Sri Lanka', 'Sudán', 'Surinam', 'Suecia', 'Suiza', 'Siria', 'Tayikistán', 'Tanzania', 'Tailandia', 'Timor este', 'Ir', 'Tonga', 'Trinidad y Tobago', 'Túnez', 'Pavo', 'Turkmenistán', 'Tuvalu', 'Uganda', 'Ucrania', 'Emiratos Árabes Unidos', 'Reino Unido', 'Estados Unidos', 'Uruguay', 'Uzbekistán', 'Vanuatu', 'Venezuela', 'Vietnam', 'Yemen', 'Zambia', 'Zimbabue']\n"
     ]
    }
   ],
   "source": [
    "pais_densidad = []\n",
    "for c in densidad_data['pais']:\n",
    "    pais_densidad.append(c)\n",
    "\n",
    "print(pais_densidad)"
   ]
  },
  {
   "cell_type": "markdown",
   "metadata": {},
   "source": [
    "## Web Scraping"
   ]
  },
  {
   "cell_type": "markdown",
   "metadata": {},
   "source": [
    "### 1. Recolectando la columna Espranza de Vida \"EV\" del sitio web https://www.indexmundi.com/es/datos/indicadores/SP.DYN.LE00.IN/rankings"
   ]
  },
  {
   "cell_type": "code",
   "execution_count": 128,
   "metadata": {},
   "outputs": [
    {
     "name": "stdout",
     "output_type": "stream",
     "text": [
      "['Afganistán', 'Albania', 'Alemania', 'Angola', 'Antigua y Barbuda', 'Arabia Saudita', 'Argelia', 'Argentina', 'Armenia', 'Australia', 'Austria', 'Azerbaiyán', 'Bahamas', 'Bahrein', 'Bangladesh', 'Barbados', 'Belarús', 'Belice', 'Benin', 'Bhután', 'Bolivia', 'Bosnia y Herzegovina', 'Botswana', 'Brasil', 'Brunei Darussalam', 'Bulgaria', 'Burkina Faso', 'Burundi', 'Bélgica', 'Cabo Verde', 'Camboya', 'Camerún', 'Canadá', 'Chad', 'Chile', 'China', 'Chipre', 'Colombia', 'Comoras', 'Congo, República del', 'Corea, República Popular Democrática de', 'Corea, República de', 'Costa Rica', 'Croacia', 'Cuba', \"Côte d'Ivoire\", 'Dinamarca', 'Djibouti', 'Dominica', 'Ecuador', 'Egipto, República Árabe de', 'El Salvador', 'Emiratos Árabes Unidos', 'Eritrea', 'Eslovenia', 'España', 'Estados Unidos', 'Estonia', 'Etiopía', 'Ex República Yugoslava de Macedonia', 'Federación de Rusia', 'Fiji', 'Filipinas', 'Finlandia', 'Francia', 'Gabón', 'Gambia', 'Georgia', 'Ghana', 'Granada', 'Grecia', 'Groenlandia', 'Guatemala', 'Guinea', 'Guinea Ecuatorial', 'Guinea-Bissau', 'Guyana', 'Haití', 'Honduras', 'Hong Kong, Región Administrativa Especial', 'Hungría', 'India', 'Indonesia', 'Iraq', 'Irlanda', 'Irán, República Islámica del', 'Islandia', 'Islas Caimán', 'Islas Salomón', 'Israel', 'Italia', 'Jamaica', 'Japón', 'Jordania', 'Kazajstán', 'Kenya', 'Kirguistán', 'Kiribati', 'Kuwait', 'Lesotho', 'Letonia', 'Liberia', 'Libia', 'Liechtenstein', 'Lituania', 'Luxemburgo', 'Líbano', 'Madagascar', 'Malasia', 'Malawi', 'Malta', 'Malí', 'Marruecos', 'Mauricio', 'Mauritania', 'Mongolia', 'Montenegro', 'Mozambique', 'Myanmar', 'México', 'Namibia', 'Nepal', 'Nicaragua', 'Nigeria', 'Noruega', 'Nueva Caledonia', 'Nueva Zelandia', 'Níger', 'Omán', 'Pakistán', 'Palau', 'Panamá', 'Papua Nueva Guinea', 'Paraguay', 'Países Bajos', 'Perú', 'Polonia', 'Portugal', 'Puerto Rico', 'Qatar', 'Región Administrativa Especial de Macao, China', 'Reino Unido', 'República Centroafricana', 'República Checa', 'República Democrática Popular Lao', 'República Dominicana', 'República Eslovaca', 'República de Moldova', 'República Árabe Siria', 'Rwanda', 'Saint Kitts y Nevis', 'Samoa', 'San Vicente y las Granadinas', 'Santa Lucía', 'Santo Tomé y Príncipe', 'Senegal', 'Serbia', 'Seychelles', 'Sierra Leona', 'Singapur', 'Somalia', 'Sri Lanka', 'Sudáfrica', 'Sudán', 'Suecia', 'Suiza', 'Suriname', 'Swazilandia', 'Tailandia', 'Tanzanía', 'Tayikistán', 'Togo', 'Tonga', 'Trinidad y Tobago', 'Turkmenistán', 'Turquía', 'Túnez', 'Ucrania', 'Uganda', 'Uruguay', 'Uzbekistán', 'Vanuatu', 'Venezuela', 'Viet Nam', 'Yemen, Rep. del', 'Zambia', 'Zimbabwe']\n"
     ]
    }
   ],
   "source": [
    "from urllib.request import urlopen\n",
    "from bs4 import BeautifulSoup\n",
    "\n",
    "url = 'https://www.indexmundi.com/es/datos/indicadores/SP.DYN.LE00.IN/rankings'\n",
    "html = urlopen(url)\n",
    "bs = BeautifulSoup(html.read(), 'html.parser')\n",
    "all_text = bs.find_all('tr')\n",
    "country_names = []\n",
    "ev_numbers = []\n",
    "for info in all_text:\n",
    "    # Buscar el elemento <a> dentro de cada fila <tr>\n",
    "    country_tag = info.find('a')\n",
    "    if country_tag:\n",
    "        country_names.append(country_tag.text.strip())\n",
    "    # Buscar el elemento <a> dentro de cada fila <tr>\n",
    "    ev_tag = info.find('td', {'class': 'r'})\n",
    "    if ev_tag:\n",
    "        ev_numbers.append(ev_tag.text.strip())\n",
    "\n",
    "pais_ev = []\n",
    "country_sorted = sorted(country_names)\n",
    "for country in country_sorted:\n",
    "    pais_ev.append(country)\n",
    "\n",
    "\n",
    "country_egipto = \"Egipto, República Árabe de\"\n",
    "country_bahrain = \"Bahrein\"\n",
    "country_butan = \"Bhután\"\n",
    "country_kenia = \"Kenya\"\n",
    "country_iran = \"Irán, República Islámica del\"\n",
    "country_lesoto = \"Lesotho\"\n",
    "country_nueva_zelandia = \"Nueva Zelandia\"\n",
    "country_papua_nguinea = \"Papua Nueva Guinea\"\n",
    "country_ruanda = \"Rwanda\"\n",
    "country_tanzania = \"Tanzanía\"\n",
    "for i, country in enumerate(country_names):\n",
    "    if country == country_egipto:\n",
    "        country_names[i] = 'Egipto'\n",
    "\n",
    "    if country == country_bahrain:\n",
    "        country_names[i] = 'Bahrain'\n",
    "\n",
    "    if country == country_butan:\n",
    "        country_names[i] = 'Bután'\n",
    "\n",
    "    if country == country_iran:\n",
    "        country_names[i] = 'Irán'\n",
    "\n",
    "    if country == country_kenia:\n",
    "        country_names[i] = 'Kenia'\n",
    "\n",
    "    if country == country_lesoto:\n",
    "        country_names[i] = 'Lesotho'\n",
    "\n",
    "    if country == country_nueva_zelandia:\n",
    "        country_names[i] = 'Nueva Zelanda'\n",
    "\n",
    "    if country == country_papua_nguinea:\n",
    "        country_names[i] = 'Papúa Nueva Guinea'\n",
    "\n",
    "    if country == country_ruanda:\n",
    "        country_names[i] = 'Ruanda'\n",
    "\n",
    "    if country == country_ruanda:\n",
    "        country_names[i] = 'Tanzania'\n",
    "\n",
    "\n",
    "ev_data = pd.DataFrame({'pais': country_names, 'EV(age)-2020': ev_numbers})\n",
    "print(pais_ev)\n"
   ]
  },
  {
   "cell_type": "code",
   "execution_count": 129,
   "metadata": {},
   "outputs": [
    {
     "name": "stdout",
     "output_type": "stream",
     "text": [
      "['Afganistán', 'Albania', 'Argelia', 'Andorra', 'Angola', 'Antigua y Barbuda', 'Argentina', 'Armenia', 'Australia', 'Austria', 'Azerbaiyán', 'Las bahamas', 'Bahrain', 'Bangladesh', 'Barbados', 'Bielorrusia', 'Bélgica', 'Belgo', 'Benin', 'Bután', 'Bolivia', 'Bosnia y Herzegovina', 'Botswana', 'Brasil', 'Brunei', 'Bulgaria', 'Burkina Faso', 'Burundi', 'Costa marfil', 'Cabo Verde', 'Camboya', 'Camerún', 'Canadá', 'República Centroafricana', 'Chad', 'Chile', 'Porcelana', 'Colombia', 'Comoras', 'República del Congo', 'Costa Rica', 'Croacia', 'Cuba', 'Chipre', 'República Checa', 'República Democrática del Congo', 'Dinamarca', 'Djibouti', 'Dominio', 'República Dominicana', 'Ecuador', 'Egipto', 'El Salvador', 'Guinea Ecuatorial', 'Eritrea', 'Estonia', 'Eswatini', 'Etiopía', 'Fiji', 'Finlandia', 'Francia', 'Gabón', 'La gambia', 'Georgia', 'Alemania', 'Ghana', 'Grecia', 'Granada', 'Guatemala', 'Guinea', 'Guinea-Bissau', 'Guayana', 'Haití', 'Ciudad del Vaticano', 'Honduras', 'Hungría', 'Islandia', 'India', 'Indonesia', 'Irán', 'Irak', 'República de Irlanda', 'Israel', 'Italia', 'Jamaica', 'Japón', 'Jordán', 'Kazajstán', 'Kenia', 'Kiribati', 'Kuwait', 'Kirguistán', 'Laos', 'Letonia', 'Líbano', 'Lesoto', 'Liberia', 'Libia', 'Liechtenstein', 'Lituania', 'Luxemburgo', 'Madagascar', 'Malawi', 'Malasia', 'Maldivas', 'Malí', 'Malta', 'Islas Marshall', 'Mauritania', 'Mauricio', 'México', 'Estados federados de Micronesia', 'Moldava', 'Mónaco', 'Mongolia', 'Montenegro', 'Marruecos', 'Mozambique', 'Myanmar', 'Namibia', 'Nauru', 'Nepal', 'Países Bajos', 'Nueva Zelanda', 'Nicaragua', 'Níger', 'Nigeria', 'Corea del Norte', 'Macedonia del Norte', 'Noruega', 'Omán', 'Pakistán', 'Palau', 'Autoridad Nacional Palestina', 'Panamá', 'Papúa Nueva Guinea', 'Paraguay', 'Perú', 'Filipinas', 'Polonia', 'Portugal', 'Katar', 'Rumania', 'Rusia', 'Ruanda', 'Saint Kitts y Nevis', 'Santa Lucía', 'San Vicente y las Granadinas', 'Samoa', 'San Marino', 'S�����������', 'Arabia Saudita', 'Senegal', 'Serbia', 'Seychelles', 'Sierra Leona', 'Singapur', 'Eslovaquia', 'Eslovenia', 'Islas Salomón', 'Somalia', 'Sudáfrica', 'Corea del Sur', 'Sudán del Sur', 'España', 'Sri Lanka', 'Sudán', 'Surinam', 'Suecia', 'Suiza', 'Siria', 'Tayikistán', 'Tanzania', 'Tailandia', 'Timor este', 'Ir', 'Tonga', 'Trinidad y Tobago', 'Túnez', 'Pavo', 'Turkmenistán', 'Tuvalu', 'Uganda', 'Ucrania', 'Emiratos Árabes Unidos', 'Reino Unido', 'Estados Unidos', 'Uruguay', 'Uzbekistán', 'Vanuatu', 'Venezuela', 'Vietnam', 'Yemen', 'Zambia', 'Zimbabue']\n"
     ]
    }
   ],
   "source": [
    "print(pais_densidad)"
   ]
  },
  {
   "cell_type": "code",
   "execution_count": 130,
   "metadata": {},
   "outputs": [
    {
     "data": {
      "text/plain": [
       "pais            0\n",
       "EV(age)-2020    0\n",
       "dtype: int64"
      ]
     },
     "execution_count": 130,
     "metadata": {},
     "output_type": "execute_result"
    }
   ],
   "source": [
    "ev_data.isnull().sum()"
   ]
  },
  {
   "cell_type": "code",
   "execution_count": 131,
   "metadata": {},
   "outputs": [
    {
     "name": "stdout",
     "output_type": "stream",
     "text": [
      "<class 'pandas.core.frame.DataFrame'>\n",
      "RangeIndex: 187 entries, 0 to 186\n",
      "Data columns (total 2 columns):\n",
      " #   Column        Non-Null Count  Dtype \n",
      "---  ------        --------------  ----- \n",
      " 0   pais          187 non-null    object\n",
      " 1   EV(age)-2020  187 non-null    object\n",
      "dtypes: object(2)\n",
      "memory usage: 3.1+ KB\n"
     ]
    }
   ],
   "source": [
    "ev_data.info()"
   ]
  },
  {
   "cell_type": "markdown",
   "metadata": {},
   "source": [
    "## Recolectando datos del Fondo Monetario Internacional. \n",
    "### PIB  2023\n",
    "#### link de la pagina web (https://datosmacro.expansion.com/paises/grupos/fmi)"
   ]
  },
  {
   "cell_type": "code",
   "execution_count": 132,
   "metadata": {},
   "outputs": [
    {
     "data": {
      "text/html": [
       "<div>\n",
       "<style scoped>\n",
       "    .dataframe tbody tr th:only-of-type {\n",
       "        vertical-align: middle;\n",
       "    }\n",
       "\n",
       "    .dataframe tbody tr th {\n",
       "        vertical-align: top;\n",
       "    }\n",
       "\n",
       "    .dataframe thead th {\n",
       "        text-align: right;\n",
       "    }\n",
       "</style>\n",
       "<table border=\"1\" class=\"dataframe\">\n",
       "  <thead>\n",
       "    <tr style=\"text-align: right;\">\n",
       "      <th></th>\n",
       "      <th>pais</th>\n",
       "      <th>PIB(anual, Eur)-2023</th>\n",
       "    </tr>\n",
       "  </thead>\n",
       "  <tbody>\n",
       "    <tr>\n",
       "      <th>0</th>\n",
       "      <td>Afganistán</td>\n",
       "      <td>16022</td>\n",
       "    </tr>\n",
       "    <tr>\n",
       "      <th>1</th>\n",
       "      <td>Albania</td>\n",
       "      <td>25122</td>\n",
       "    </tr>\n",
       "    <tr>\n",
       "      <th>2</th>\n",
       "      <td>Alemania</td>\n",
       "      <td>4305260</td>\n",
       "    </tr>\n",
       "    <tr>\n",
       "      <th>3</th>\n",
       "      <td>Angola</td>\n",
       "      <td>83029</td>\n",
       "    </tr>\n",
       "    <tr>\n",
       "      <th>4</th>\n",
       "      <td>Antigua y Barbuda</td>\n",
       "      <td>1880</td>\n",
       "    </tr>\n",
       "    <tr>\n",
       "      <th>...</th>\n",
       "      <td>...</td>\n",
       "      <td>...</td>\n",
       "    </tr>\n",
       "    <tr>\n",
       "      <th>183</th>\n",
       "      <td>Viet Nam</td>\n",
       "      <td>400989</td>\n",
       "    </tr>\n",
       "    <tr>\n",
       "      <th>184</th>\n",
       "      <td>Yemen</td>\n",
       "      <td>22331</td>\n",
       "    </tr>\n",
       "    <tr>\n",
       "      <th>185</th>\n",
       "      <td>Yibuti</td>\n",
       "      <td>3790</td>\n",
       "    </tr>\n",
       "    <tr>\n",
       "      <th>186</th>\n",
       "      <td>Zambia</td>\n",
       "      <td>25482</td>\n",
       "    </tr>\n",
       "    <tr>\n",
       "      <th>187</th>\n",
       "      <td>Zimbabue</td>\n",
       "      <td>35056</td>\n",
       "    </tr>\n",
       "  </tbody>\n",
       "</table>\n",
       "<p>188 rows × 2 columns</p>\n",
       "</div>"
      ],
      "text/plain": [
       "                  pais PIB(anual, Eur)-2023\n",
       "0           Afganistán                16022\n",
       "1              Albania                25122\n",
       "2             Alemania              4305260\n",
       "3               Angola                83029\n",
       "4    Antigua y Barbuda                 1880\n",
       "..                 ...                  ...\n",
       "183           Viet Nam               400989\n",
       "184              Yemen                22331\n",
       "185             Yibuti                 3790\n",
       "186             Zambia                25482\n",
       "187           Zimbabue                35056\n",
       "\n",
       "[188 rows x 2 columns]"
      ]
     },
     "execution_count": 132,
     "metadata": {},
     "output_type": "execute_result"
    }
   ],
   "source": [
    "from urllib.request import urlopen\n",
    "from bs4 import BeautifulSoup\n",
    "\n",
    "url = 'https://datosmacro.expansion.com/paises/grupos/fmi'\n",
    "html = urlopen(url)\n",
    "bs = BeautifulSoup(html.read(), 'html.parser')\n",
    "\n",
    "# Encontrar todas las filas de la tabla\n",
    "all_rows = bs.find_all('tr')\n",
    "\n",
    "country_names = []\n",
    "pib_values = []\n",
    "idh_values = []\n",
    "idh_values = []\n",
    "\n",
    "for row in all_rows:\n",
    "    country_tag = row.find('a', href=True)\n",
    "    if country_tag and '/paises/' in country_tag['href']:\n",
    "        # Extraer el nombre del país eliminando el '[+]'\n",
    "        country_name = country_tag.text.replace(' [+]', '').strip()\n",
    "        country_names.append(country_name)\n",
    "    else:\n",
    "        country_names.append(None)\n",
    "\n",
    "    # Buscar el primer <td> con la clase 'numero eur'\n",
    "    pib_tag = row.find('td', class_='numero eur')\n",
    "    if pib_tag:\n",
    "        # Extraer el valor del PIB eliminando el signo de euro\n",
    "        gdp_value = pib_tag['data-value'].strip()\n",
    "        pib_values.append(gdp_value)\n",
    "    else:\n",
    "        pib_values.append(None)  # Si no se encuentra el PIB, añadir None\n",
    "\n",
    "country_banglades = \"Bangladés\"\n",
    "country_barein = \"Baréin\"\n",
    "country_botsuana = \"Botsuana\"\n",
    "country_fiyi = \"Fiyi\"\n",
    "country_kazajistan = \"Kazajistán\"\n",
    "country_malaui = \"Malaui\"\n",
    "\n",
    "for i, country in enumerate(country_names):\n",
    "    if country == country_banglades:\n",
    "        country_names[i] = 'Bangladesh'\n",
    "    if country == country_barein:\n",
    "        country_names[i] = 'Bahrain'\n",
    "    if country == country_botsuana:\n",
    "        country_names[i] = 'Botswana'\n",
    "    if country == country_fiyi:\n",
    "        country_names[i] = 'Fiji'\n",
    "    if country == country_malaui:\n",
    "        country_names[i] = 'Malawi'\n",
    "    if country == country_kazajistan:\n",
    "        country_names[i] = 'Kazajstán'\n",
    "\n",
    "# Bangladés - Bangladesh\n",
    "# Baréin - Bahrain\n",
    "# Botsuana - Botswana\n",
    "# Fiyi - Fiji \n",
    "# Kazajistán - Kazajstán\n",
    "# 'Malaui' - Malawi\n",
    "\n",
    "\n",
    "pib_values.pop(0)\n",
    "pib_values.pop(-1)\n",
    "\n",
    "country_names.pop(0)\n",
    "country_names.pop(-1)\n",
    "\n",
    "pib_data = pd.DataFrame({'pais': country_names, 'PIB(anual, Eur)-2023': pib_values})\n",
    "pib_data\n",
    "\n",
    "\n",
    "\n"
   ]
  },
  {
   "cell_type": "code",
   "execution_count": 133,
   "metadata": {},
   "outputs": [
    {
     "name": "stdout",
     "output_type": "stream",
     "text": [
      "['Afganistán', 'Albania', 'Alemania', 'Angola', 'Antigua y Barbuda', 'Arabia Saudita', 'Argelia', 'Argentina', 'Armenia', 'Australia', 'Austria', 'Azerbaiyán', 'Bahamas', 'Bahrain', 'Bangladesh', 'Barbados', 'Belice', 'Benin', 'Bielorrusia', 'Bolivia', 'Bosnia y Herzegovina', 'Botswana', 'Brasil', 'Brunéi', 'Bulgaria', 'Burkina Faso', 'Burundi', 'Bután', 'Bélgica', 'Cabo Verde', 'Camboya', 'Camerún', 'Canadá', 'Catar', 'Chad', 'Chequia', 'Chile', 'China', 'Chipre', 'Colombia', 'Comoras', 'Corea del Sur', 'Costa Rica', 'Costa de Marfil', 'Croacia', 'Dinamarca', 'Dominica', 'Ecuador', 'Egipto', 'El Salvador', 'Emiratos Árabes Unidos', 'Eritrea', 'Eslovaquia', 'Eslovenia', 'España', 'Estados Federados de Micronesia', 'Estados Unidos', 'Estonia', 'Eswatini', 'Etiopía', 'Fiji', 'Filipinas', 'Finlandia', 'Francia', 'Gabón', 'Gambia', 'Georgia', 'Ghana', 'Granada', 'Grecia', 'Guatemala', 'Guinea', 'Guinea Ecuatorial', 'Guinea-Bisáu', 'Guyana', 'Haití', 'Honduras', 'Hong Kong', 'Hungría', 'India', 'Indonesia', 'Irak', 'Irlanda', 'Irán', 'Islandia', 'Islas Marshall', 'Islas Salomón', 'Israel', 'Italia', 'Jamaica', 'Japón', 'Jordania', 'Kazajstán', 'Kenia', 'Kirguistán', 'Kiribati', 'Kuwait', 'Laos', 'Lesoto', 'Letonia', 'Liberia', 'Libia', 'Lituania', 'Luxemburgo', 'Líbano', 'Macedonia del Norte', 'Madagascar', 'Malasia', 'Malawi', 'Maldivas', 'Malta', 'Malí', 'Marruecos', 'Mauricio', 'Mauritania', 'Moldavia', 'Mongolia', 'Montenegro', 'Mozambique', 'Myanmar', 'México', 'Namibia', 'Nepal', 'Nicaragua', 'Nigeria', 'Noruega', 'Nueva Zelanda', 'Níger', 'Omán', 'Pakistán', 'Palaos', 'Panamá', 'Papúa Nueva Guinea', 'Paraguay', 'Países Bajos', 'Perú', 'Polonia', 'Portugal', 'Reino Unido', 'República Centroafricana', 'República Democrática del Congo', 'República Dominicana', 'República del Congo', 'Ruanda', 'Rumanía', 'Rusia', 'Samoa', 'San Cristóbal y Nieves', 'San Marino', 'San Vicente y las Granadinas', 'Santa Lucía', 'Santo Tomé y Príncipe', 'Senegal', 'Serbia', 'Seychelles', 'Sierra Leona', 'Singapur', 'Siria', 'Sri Lanka', 'Sudáfrica', 'Sudán', 'Sudán del Sur', 'Suecia', 'Suiza', 'Surinam', 'Tailandia', 'Taiwan', 'Tanzania', 'Tayikistán', 'Timor Oriental', 'Togo', 'Tonga', 'Trinidad y Tobago', 'Turkmenistán', 'Tuvalu', 'Túnez', 'Türkiye', 'Ucrania', 'Uganda', 'Uruguay', 'Uzbekistán', 'Vanuatu', 'Venezuela', 'Viet Nam', 'Yemen', 'Yibuti', 'Zambia', 'Zimbabue']\n"
     ]
    }
   ],
   "source": [
    "pais_pib = sorted(pib_data['pais'])\n",
    "print(pais_pib)"
   ]
  },
  {
   "cell_type": "code",
   "execution_count": 134,
   "metadata": {},
   "outputs": [
    {
     "data": {
      "text/plain": [
       "pais                    0\n",
       "PIB(anual, Eur)-2023    0\n",
       "dtype: int64"
      ]
     },
     "execution_count": 134,
     "metadata": {},
     "output_type": "execute_result"
    }
   ],
   "source": [
    "pib_data.isnull().sum()"
   ]
  },
  {
   "cell_type": "code",
   "execution_count": 135,
   "metadata": {},
   "outputs": [
    {
     "data": {
      "text/html": [
       "<div>\n",
       "<style scoped>\n",
       "    .dataframe tbody tr th:only-of-type {\n",
       "        vertical-align: middle;\n",
       "    }\n",
       "\n",
       "    .dataframe tbody tr th {\n",
       "        vertical-align: top;\n",
       "    }\n",
       "\n",
       "    .dataframe thead th {\n",
       "        text-align: right;\n",
       "    }\n",
       "</style>\n",
       "<table border=\"1\" class=\"dataframe\">\n",
       "  <thead>\n",
       "    <tr style=\"text-align: right;\">\n",
       "      <th></th>\n",
       "      <th>pais</th>\n",
       "      <th>Densidad(P/Km2)-2023</th>\n",
       "      <th>PIB(anual, Eur)-2023</th>\n",
       "    </tr>\n",
       "  </thead>\n",
       "  <tbody>\n",
       "    <tr>\n",
       "      <th>0</th>\n",
       "      <td>Afganistán</td>\n",
       "      <td>60</td>\n",
       "      <td>16022</td>\n",
       "    </tr>\n",
       "    <tr>\n",
       "      <th>1</th>\n",
       "      <td>Albania</td>\n",
       "      <td>105</td>\n",
       "      <td>25122</td>\n",
       "    </tr>\n",
       "    <tr>\n",
       "      <th>2</th>\n",
       "      <td>Argelia</td>\n",
       "      <td>18</td>\n",
       "      <td>221957</td>\n",
       "    </tr>\n",
       "    <tr>\n",
       "      <th>3</th>\n",
       "      <td>Angola</td>\n",
       "      <td>26</td>\n",
       "      <td>83029</td>\n",
       "    </tr>\n",
       "    <tr>\n",
       "      <th>4</th>\n",
       "      <td>Antigua y Barbuda</td>\n",
       "      <td>223</td>\n",
       "      <td>1880</td>\n",
       "    </tr>\n",
       "    <tr>\n",
       "      <th>...</th>\n",
       "      <td>...</td>\n",
       "      <td>...</td>\n",
       "      <td>...</td>\n",
       "    </tr>\n",
       "    <tr>\n",
       "      <th>157</th>\n",
       "      <td>Vanuatu</td>\n",
       "      <td>25</td>\n",
       "      <td>1042</td>\n",
       "    </tr>\n",
       "    <tr>\n",
       "      <th>158</th>\n",
       "      <td>Venezuela</td>\n",
       "      <td>32</td>\n",
       "      <td>86349</td>\n",
       "    </tr>\n",
       "    <tr>\n",
       "      <th>159</th>\n",
       "      <td>Yemen</td>\n",
       "      <td>56</td>\n",
       "      <td>22331</td>\n",
       "    </tr>\n",
       "    <tr>\n",
       "      <th>160</th>\n",
       "      <td>Zambia</td>\n",
       "      <td>25</td>\n",
       "      <td>25482</td>\n",
       "    </tr>\n",
       "    <tr>\n",
       "      <th>161</th>\n",
       "      <td>Zimbabue</td>\n",
       "      <td>38</td>\n",
       "      <td>35056</td>\n",
       "    </tr>\n",
       "  </tbody>\n",
       "</table>\n",
       "<p>162 rows × 3 columns</p>\n",
       "</div>"
      ],
      "text/plain": [
       "                  pais Densidad(P/Km2)-2023 PIB(anual, Eur)-2023\n",
       "0           Afganistán                   60                16022\n",
       "1              Albania                  105                25122\n",
       "2              Argelia                   18               221957\n",
       "3               Angola                   26                83029\n",
       "4    Antigua y Barbuda                  223                 1880\n",
       "..                 ...                  ...                  ...\n",
       "157            Vanuatu                   25                 1042\n",
       "158          Venezuela                   32                86349\n",
       "159              Yemen                   56                22331\n",
       "160             Zambia                   25                25482\n",
       "161           Zimbabue                   38                35056\n",
       "\n",
       "[162 rows x 3 columns]"
      ]
     },
     "execution_count": 135,
     "metadata": {},
     "output_type": "execute_result"
    }
   ],
   "source": [
    "data = pd.merge(densidad_data, pib_data, on=\"pais\")\n",
    "data"
   ]
  },
  {
   "cell_type": "markdown",
   "metadata": {},
   "source": [
    "### Api de Data Bank\n",
    "#### De los siguientes sitios:\n",
    "##### https://datos.bancomundial.org/indicador/IT.NET.USER.ZS  Acceso a Internet\n",
    "##### https://datos.bancomundial.org/indicador/FP.CPI.TOTL.ZG  Inflacion"
   ]
  },
  {
   "cell_type": "code",
   "execution_count": 136,
   "metadata": {},
   "outputs": [
    {
     "name": "stdout",
     "output_type": "stream",
     "text": [
      "Obteniendo datos para: Acceso a Internet\n",
      "                           pais  value  date\n",
      "0                Altos ingresos   92.3  2023\n",
      "1                Bajos ingresos   24.4  2023\n",
      "2     Ingresos medios más bajos   50.9  2023\n",
      "3    Ingresos medios superiores   78.5  2023\n",
      "4                         Mundo   65.4  2023\n",
      "..                          ...    ...   ...\n",
      "181                     Vanuatu   45.7  2023\n",
      "182                     Vietnam   78.1  2023\n",
      "183          Cisjordania y Gaza   86.6  2023\n",
      "184                      Zambia   33.0  2023\n",
      "185                    Zimbabue   38.4  2023\n",
      "\n",
      "[186 rows x 3 columns]\n"
     ]
    }
   ],
   "source": [
    "import requests\n",
    "import pandas as pd\n",
    "from deep_translator import GoogleTranslator\n",
    "\n",
    "# Definir el indicador que se desea obtener\n",
    "indicators = {\n",
    "    'Acceso a Internet': 'IT.NET.USER.ZS',\n",
    "}\n",
    "\n",
    "# URL base de la API\n",
    "url = \"https://api.worldbank.org/v2/country/all/indicator/\"\n",
    "\n",
    "all_data = []\n",
    "\n",
    "for indicator_name, indicator_code in indicators.items():\n",
    "    print(f\"Obteniendo datos para: {indicator_name}\")\n",
    "    page = 1\n",
    "    while True:\n",
    "        params = {\n",
    "            \"format\": \"json\",\n",
    "            \"per_page\": 500,\n",
    "            \"page\": page\n",
    "        }\n",
    "        \n",
    "        response = requests.get(url + indicator_code, params=params)\n",
    "        \n",
    "        # Manejo de errores\n",
    "        if response.status_code != 200:\n",
    "            print(f\"Error en la solicitud: {response.status_code}\")\n",
    "            break\n",
    "        \n",
    "        data = response.json()\n",
    "        \n",
    "        if len(data) < 2 or not data[1]:\n",
    "            break\n",
    "\n",
    "        # Filtrar datos para el año 2023\n",
    "        for entry in data[1]:\n",
    "            if entry['date'] == '2023' and entry['value'] is not None:\n",
    "                country_name = entry['country']['value']\n",
    "                # Traducir el nombre del país a español\n",
    "                translated_name = GoogleTranslator(source='en', target='es').translate(country_name)\n",
    "                all_data.append({\n",
    "                    'pais': translated_name,\n",
    "                    'value': entry['value'],\n",
    "                    'date': entry['date']\n",
    "                })\n",
    "\n",
    "        page += 1\n",
    "\n",
    "# Crear DataFrame con los datos filtrados\n",
    "internet_df = pd.DataFrame(all_data)\n",
    "\n",
    "# Mostrar el DataFrame\n",
    "print(internet_df)"
   ]
  },
  {
   "cell_type": "code",
   "execution_count": 137,
   "metadata": {},
   "outputs": [
    {
     "name": "stdout",
     "output_type": "stream",
     "text": [
      "Obteniendo datos para: Inflación\n",
      "                              pais      value  date\n",
      "0            África oriental y sur   7.126975  2023\n",
      "1      África occidental y central   4.953050  2023\n",
      "2                      Mundo árabe   3.642164  2023\n",
      "3      Estados pequeños del Caribe   4.227693  2023\n",
      "4    Europa central y los bálticos   9.442841  2023\n",
      "..                             ...        ...   ...\n",
      "206                 Estados Unidos   4.116338  2023\n",
      "207                        Uruguay   5.869104  2023\n",
      "208                        Vietnam   3.252893  2023\n",
      "209             Cisjordania y Gaza   5.871102  2023\n",
      "210                         Zambia  10.884532  2023\n",
      "\n",
      "[211 rows x 3 columns]\n"
     ]
    }
   ],
   "source": [
    "import requests\n",
    "import pandas as pd\n",
    "\n",
    "# Definir el indicador que se desea obtener\n",
    "indicators = {\n",
    "    'Inflación': 'FP.CPI.TOTL.ZG',\n",
    "}\n",
    "\n",
    "# URL base de la API\n",
    "url = \"https://api.worldbank.org/v2/country/all/indicator/\"\n",
    "\n",
    "all_data = []\n",
    "\n",
    "for indicator_name, indicator_code in indicators.items():\n",
    "    print(f\"Obteniendo datos para: {indicator_name}\")\n",
    "    page = 1\n",
    "    while True:\n",
    "        params = {\n",
    "            \"format\": \"json\",\n",
    "            \"per_page\": 500,\n",
    "            \"page\": page\n",
    "        }\n",
    "        \n",
    "        response = requests.get(url + indicator_code, params=params)\n",
    "        \n",
    "        # Manejo de errores\n",
    "        if response.status_code != 200:\n",
    "            print(f\"Error en la solicitud: {response.status_code}\")\n",
    "            break\n",
    "        \n",
    "        data = response.json()\n",
    "        \n",
    "        if len(data) < 2 or not data[1]:\n",
    "            break\n",
    "\n",
    "        # Filtrar datos para el año 2023\n",
    "        for entry in data[1]:\n",
    "            if entry['date'] == '2023' and entry['value'] is not None:\n",
    "                country_name = entry['country']['value']\n",
    "                # Traducir el nombre del país a español\n",
    "                translated_name = GoogleTranslator(source='en', target='es').translate(country_name)\n",
    "                all_data.append({\n",
    "                    'pais': translated_name,\n",
    "                    'value': entry['value'],\n",
    "                    'date': entry['date']\n",
    "                })\n",
    "\n",
    "        page += 1\n",
    "\n",
    "# Crear DataFrame con los datos filtrados\n",
    "inflacion_df = pd.DataFrame(all_data)\n",
    "\n",
    "# Mostrar el DataFrame\n",
    "print(inflacion_df)"
   ]
  },
  {
   "cell_type": "code",
   "execution_count": 138,
   "metadata": {},
   "outputs": [],
   "source": [
    "internet_df = internet_df.rename(columns={'value':'internet(%)-2023'})\n",
    "inflacion_df = inflacion_df.rename(columns={'value':'inflacion(%)-2023'})"
   ]
  },
  {
   "cell_type": "code",
   "execution_count": 139,
   "metadata": {},
   "outputs": [],
   "source": [
    "internet_df = internet_df.drop(columns=['date'])\n",
    "inflacion_df = inflacion_df.drop(columns=['date'])"
   ]
  },
  {
   "cell_type": "code",
   "execution_count": 140,
   "metadata": {},
   "outputs": [
    {
     "data": {
      "text/html": [
       "<div>\n",
       "<style scoped>\n",
       "    .dataframe tbody tr th:only-of-type {\n",
       "        vertical-align: middle;\n",
       "    }\n",
       "\n",
       "    .dataframe tbody tr th {\n",
       "        vertical-align: top;\n",
       "    }\n",
       "\n",
       "    .dataframe thead th {\n",
       "        text-align: right;\n",
       "    }\n",
       "</style>\n",
       "<table border=\"1\" class=\"dataframe\">\n",
       "  <thead>\n",
       "    <tr style=\"text-align: right;\">\n",
       "      <th></th>\n",
       "      <th>pais</th>\n",
       "      <th>internet(%)-2023</th>\n",
       "      <th>inflacion(%)-2023</th>\n",
       "    </tr>\n",
       "  </thead>\n",
       "  <tbody>\n",
       "    <tr>\n",
       "      <th>0</th>\n",
       "      <td>Altos ingresos</td>\n",
       "      <td>92.3</td>\n",
       "      <td>4.821467</td>\n",
       "    </tr>\n",
       "    <tr>\n",
       "      <th>1</th>\n",
       "      <td>Bajos ingresos</td>\n",
       "      <td>24.4</td>\n",
       "      <td>9.984390</td>\n",
       "    </tr>\n",
       "    <tr>\n",
       "      <th>2</th>\n",
       "      <td>Ingresos medios más bajos</td>\n",
       "      <td>50.9</td>\n",
       "      <td>6.889006</td>\n",
       "    </tr>\n",
       "    <tr>\n",
       "      <th>3</th>\n",
       "      <td>Ingresos medios superiores</td>\n",
       "      <td>78.5</td>\n",
       "      <td>4.944324</td>\n",
       "    </tr>\n",
       "    <tr>\n",
       "      <th>4</th>\n",
       "      <td>Mundo</td>\n",
       "      <td>65.4</td>\n",
       "      <td>5.635669</td>\n",
       "    </tr>\n",
       "    <tr>\n",
       "      <th>...</th>\n",
       "      <td>...</td>\n",
       "      <td>...</td>\n",
       "      <td>...</td>\n",
       "    </tr>\n",
       "    <tr>\n",
       "      <th>157</th>\n",
       "      <td>Estados Unidos</td>\n",
       "      <td>93.1</td>\n",
       "      <td>4.116338</td>\n",
       "    </tr>\n",
       "    <tr>\n",
       "      <th>158</th>\n",
       "      <td>Uruguay</td>\n",
       "      <td>89.9</td>\n",
       "      <td>5.869104</td>\n",
       "    </tr>\n",
       "    <tr>\n",
       "      <th>159</th>\n",
       "      <td>Vietnam</td>\n",
       "      <td>78.1</td>\n",
       "      <td>3.252893</td>\n",
       "    </tr>\n",
       "    <tr>\n",
       "      <th>160</th>\n",
       "      <td>Cisjordania y Gaza</td>\n",
       "      <td>86.6</td>\n",
       "      <td>5.871102</td>\n",
       "    </tr>\n",
       "    <tr>\n",
       "      <th>161</th>\n",
       "      <td>Zambia</td>\n",
       "      <td>33.0</td>\n",
       "      <td>10.884532</td>\n",
       "    </tr>\n",
       "  </tbody>\n",
       "</table>\n",
       "<p>162 rows × 3 columns</p>\n",
       "</div>"
      ],
      "text/plain": [
       "                           pais  internet(%)-2023  inflacion(%)-2023\n",
       "0                Altos ingresos              92.3           4.821467\n",
       "1                Bajos ingresos              24.4           9.984390\n",
       "2     Ingresos medios más bajos              50.9           6.889006\n",
       "3    Ingresos medios superiores              78.5           4.944324\n",
       "4                         Mundo              65.4           5.635669\n",
       "..                          ...               ...                ...\n",
       "157              Estados Unidos              93.1           4.116338\n",
       "158                     Uruguay              89.9           5.869104\n",
       "159                     Vietnam              78.1           3.252893\n",
       "160          Cisjordania y Gaza              86.6           5.871102\n",
       "161                      Zambia              33.0          10.884532\n",
       "\n",
       "[162 rows x 3 columns]"
      ]
     },
     "execution_count": 140,
     "metadata": {},
     "output_type": "execute_result"
    }
   ],
   "source": [
    "inflacion_internet = pd.merge(internet_df, inflacion_df, on=['pais'])\n",
    "inflacion_internet"
   ]
  },
  {
   "cell_type": "code",
   "execution_count": 141,
   "metadata": {},
   "outputs": [
    {
     "name": "stdout",
     "output_type": "stream",
     "text": [
      "<class 'pandas.core.frame.DataFrame'>\n",
      "RangeIndex: 162 entries, 0 to 161\n",
      "Data columns (total 3 columns):\n",
      " #   Column             Non-Null Count  Dtype  \n",
      "---  ------             --------------  -----  \n",
      " 0   pais               162 non-null    object \n",
      " 1   internet(%)-2023   162 non-null    float64\n",
      " 2   inflacion(%)-2023  162 non-null    float64\n",
      "dtypes: float64(2), object(1)\n",
      "memory usage: 3.9+ KB\n"
     ]
    }
   ],
   "source": [
    "inflacion_internet.info()"
   ]
  },
  {
   "cell_type": "code",
   "execution_count": 143,
   "metadata": {},
   "outputs": [],
   "source": [
    "inflacion_internet['internet(%)-2023'] = inflacion_internet['internet(%)-2023'].astype(object)\n",
    "inflacion_internet['inflacion(%)-2023'] = inflacion_internet['inflacion(%)-2023'].astype(object)"
   ]
  },
  {
   "cell_type": "code",
   "execution_count": 144,
   "metadata": {},
   "outputs": [
    {
     "name": "stdout",
     "output_type": "stream",
     "text": [
      "<class 'pandas.core.frame.DataFrame'>\n",
      "RangeIndex: 162 entries, 0 to 161\n",
      "Data columns (total 3 columns):\n",
      " #   Column             Non-Null Count  Dtype \n",
      "---  ------             --------------  ----- \n",
      " 0   pais               162 non-null    object\n",
      " 1   internet(%)-2023   162 non-null    object\n",
      " 2   inflacion(%)-2023  162 non-null    object\n",
      "dtypes: object(3)\n",
      "memory usage: 3.9+ KB\n"
     ]
    }
   ],
   "source": [
    "inflacion_internet.info()"
   ]
  },
  {
   "cell_type": "code",
   "execution_count": 145,
   "metadata": {},
   "outputs": [
    {
     "data": {
      "text/plain": [
       "pais                 0\n",
       "internet(%)-2023     0\n",
       "inflacion(%)-2023    0\n",
       "dtype: int64"
      ]
     },
     "execution_count": 145,
     "metadata": {},
     "output_type": "execute_result"
    }
   ],
   "source": [
    "inflacion_internet.isnull().sum()"
   ]
  },
  {
   "cell_type": "code",
   "execution_count": 146,
   "metadata": {},
   "outputs": [],
   "source": [
    "country_bahamas = \"Bahamas, el\"\n",
    "country_dominio = \"Dominio\"\n",
    "country_egipto = \"Egipto, representante árabe.\"\n",
    "country_gambia = \"Gambia, el\"\n",
    "country_guyana= \"Guayana\"\n",
    "country_iran = \"Irán, representante islámico.\"\n",
    "country_kirguistan = \"República Kirguistán\"\n",
    "country_rumania = \"Rumania\"\n",
    "\n",
    "inflacion_internet.loc[inflacion_internet['pais'] == country_bahamas, 'pais'] = \"Bahamas\"\n",
    "inflacion_internet.loc[inflacion_internet['pais'] == country_dominio, 'pais'] = \"Dominica\"\n",
    "inflacion_internet.loc[inflacion_internet['pais'] == country_egipto, 'pais'] = \"Egipto\"\n",
    "inflacion_internet.loc[inflacion_internet['pais'] == country_gambia, 'pais'] = \"Gambia\"\n",
    "inflacion_internet.loc[inflacion_internet['pais'] == country_guyana, 'pais'] = \"Guyana\"\n",
    "inflacion_internet.loc[inflacion_internet['pais'] == country_iran, 'pais'] = \"Irán\"\n",
    "inflacion_internet.loc[inflacion_internet['pais'] == country_kirguistan, 'pais'] = \"Kirguistán\"\n",
    "inflacion_internet.loc[inflacion_internet['pais'] == country_rumania, 'pais'] = \"Rumanía\"\n",
    "\n",
    "# Bahamas, el - Bahamas\n",
    "# Dominio - Dominica\n",
    "# 'Egipto, representante árabe.' - 'Egipto'\n",
    "# 'Gambia, el' - Gambia\n",
    "# Guayana - Guyana\n",
    "# 'Irán, representante islámico.' - Irán\n",
    "# 'República Kirguistán' - 'Kirguistán'\n",
    "# Rumania - Rumanía\n"
   ]
  },
  {
   "cell_type": "code",
   "execution_count": 148,
   "metadata": {},
   "outputs": [
    {
     "name": "stdout",
     "output_type": "stream",
     "text": [
      "['Altos ingresos', 'Bajos ingresos', 'Ingresos medios más bajos', 'Ingresos medios superiores', 'Mundo', 'Albania', 'Argelia', 'Angola', 'Antigua y Barbuda', 'Armenia', 'Australia', 'Austria', 'Azerbaiyán', 'Bahamas', 'Bahrain', 'Bangladesh', 'Barbados', 'Bielorrusia', 'Bélgica', 'Belgo', 'Benin', 'Bután', 'Bolivia', 'Bosnia y Herzegovina', 'Botswana', 'Brasil', 'Brunei Darussalam', 'Bulgaria', 'Burkina Faso', 'Burundi', 'Cabo Verde', 'Camboya', 'Camerún', 'Canadá', 'Chad', 'Chile', 'Porcelana', 'Colombia', 'Congo, Rep.', 'Costa Rica', 'Costa de Marfil', 'Croacia', 'Chipre', 'Chequia', 'Dinamarca', 'Djibouti', 'Dominica', 'República Dominicana', 'Ecuador', 'Egipto', 'El Salvador', 'Estonia', 'Fiji', 'Finlandia', 'Francia', 'Gabón', 'Gambia', 'Georgia', 'Alemania', 'Ghana', 'Grecia', 'Granada', 'Guinea', 'Guyana', 'Honduras', 'Hong Kong SAR, China', 'Hungría', 'Islandia', 'Indonesia', 'Irán', 'Irak', 'Irlanda', 'Israel', 'Italia', 'Jamaica', 'Japón', 'Jordán', 'Kazajstán', 'Kenia', 'Kiribati', 'Corea, Rep.', 'Kuwait', 'Kirguistán', 'PDR lao', 'Letonia', 'Líbano', 'Lesoto', 'Liberia', 'Libia', 'Lituania', 'Luxemburgo', 'Macao SAR, China', 'Madagascar', 'Malawi', 'Malasia', 'Maldivas', 'Malí', 'Malta', 'Mauritania', 'Mauricio', 'México', 'Moldava', 'Mongolia', 'Montenegro', 'Marruecos', 'Mozambique', 'Namibia', 'Nepal', 'Países Bajos', 'Nueva Zelanda', 'Nicaragua', 'Níger', 'Nigeria', 'Macedonia del Norte', 'Noruega', 'Omán', 'Pakistán', 'Panamá', 'Papúa Nueva Guinea', 'Paraguay', 'Perú', 'Filipinas', 'Polonia', 'Portugal', 'Katar', 'Rumanía', 'Ruanda', 'Sao Tome y Principe', 'Arabia Saudita', 'Senegal', 'Serbia', 'Seychelles', 'Sierra Leona', 'Singapur', 'República Eslovaca', 'Eslovenia', 'Islas Salomón', 'Sudáfrica', 'España', 'Sri Lanka', 'San Kitts y Nevis', 'Santa Lucía', 'San Vicente y las Granadinas', 'Surinam', 'Suecia', 'Suiza', 'Tanzania', 'Tailandia', 'Timor-Leste', 'Tonga', 'Trinidad y Tobago', 'Túnez', 'Turco', 'Uganda', 'Ucrania', 'Emiratos Árabes Unidos', 'Reino Unido', 'Estados Unidos', 'Uruguay', 'Vietnam', 'Cisjordania y Gaza', 'Zambia']\n"
     ]
    }
   ],
   "source": [
    "paises_muestra = []\n",
    "for e in inflacion_internet['pais']:\n",
    "    paises_muestra.append(e)\n",
    "\n",
    "print(paises_muestra)\n",
    "# Bahamas, el - Bahamas\n",
    "# Dominio - Dominica\n",
    "# 'Egipto, representante árabe.' - 'Egipto'\n",
    "# 'Gambia, el' - Gambia\n",
    "# Guayana - Guyana\n",
    "# 'Irán, representante islámico.' - Irán\n",
    "# 'República Kirguistán' - 'Kirguistán'\n",
    "# Rumania - Rumanía\n"
   ]
  },
  {
   "cell_type": "code",
   "execution_count": 149,
   "metadata": {},
   "outputs": [
    {
     "name": "stdout",
     "output_type": "stream",
     "text": [
      "['Afganistán', 'Albania', 'Alemania', 'Angola', 'Antigua y Barbuda', 'Arabia Saudita', 'Argelia', 'Argentina', 'Armenia', 'Australia', 'Austria', 'Azerbaiyán', 'Bahamas', 'Bahrein', 'Bangladesh', 'Barbados', 'Belarús', 'Belice', 'Benin', 'Bhután', 'Bolivia', 'Bosnia y Herzegovina', 'Botswana', 'Brasil', 'Brunei Darussalam', 'Bulgaria', 'Burkina Faso', 'Burundi', 'Bélgica', 'Cabo Verde', 'Camboya', 'Camerún', 'Canadá', 'Chad', 'Chile', 'China', 'Chipre', 'Colombia', 'Comoras', 'Congo, República del', 'Corea, República Popular Democrática de', 'Corea, República de', 'Costa Rica', 'Croacia', 'Cuba', \"Côte d'Ivoire\", 'Dinamarca', 'Djibouti', 'Dominica', 'Ecuador', 'Egipto, República Árabe de', 'El Salvador', 'Emiratos Árabes Unidos', 'Eritrea', 'Eslovenia', 'España', 'Estados Unidos', 'Estonia', 'Etiopía', 'Ex República Yugoslava de Macedonia', 'Federación de Rusia', 'Fiji', 'Filipinas', 'Finlandia', 'Francia', 'Gabón', 'Gambia', 'Georgia', 'Ghana', 'Granada', 'Grecia', 'Groenlandia', 'Guatemala', 'Guinea', 'Guinea Ecuatorial', 'Guinea-Bissau', 'Guyana', 'Haití', 'Honduras', 'Hong Kong, Región Administrativa Especial', 'Hungría', 'India', 'Indonesia', 'Iraq', 'Irlanda', 'Irán, República Islámica del', 'Islandia', 'Islas Caimán', 'Islas Salomón', 'Israel', 'Italia', 'Jamaica', 'Japón', 'Jordania', 'Kazajstán', 'Kenya', 'Kirguistán', 'Kiribati', 'Kuwait', 'Lesotho', 'Letonia', 'Liberia', 'Libia', 'Liechtenstein', 'Lituania', 'Luxemburgo', 'Líbano', 'Madagascar', 'Malasia', 'Malawi', 'Malta', 'Malí', 'Marruecos', 'Mauricio', 'Mauritania', 'Mongolia', 'Montenegro', 'Mozambique', 'Myanmar', 'México', 'Namibia', 'Nepal', 'Nicaragua', 'Nigeria', 'Noruega', 'Nueva Caledonia', 'Nueva Zelandia', 'Níger', 'Omán', 'Pakistán', 'Palau', 'Panamá', 'Papua Nueva Guinea', 'Paraguay', 'Países Bajos', 'Perú', 'Polonia', 'Portugal', 'Puerto Rico', 'Qatar', 'Región Administrativa Especial de Macao, China', 'Reino Unido', 'República Centroafricana', 'República Checa', 'República Democrática Popular Lao', 'República Dominicana', 'República Eslovaca', 'República de Moldova', 'República Árabe Siria', 'Rwanda', 'Saint Kitts y Nevis', 'Samoa', 'San Vicente y las Granadinas', 'Santa Lucía', 'Santo Tomé y Príncipe', 'Senegal', 'Serbia', 'Seychelles', 'Sierra Leona', 'Singapur', 'Somalia', 'Sri Lanka', 'Sudáfrica', 'Sudán', 'Suecia', 'Suiza', 'Suriname', 'Swazilandia', 'Tailandia', 'Tanzanía', 'Tayikistán', 'Togo', 'Tonga', 'Trinidad y Tobago', 'Turkmenistán', 'Turquía', 'Túnez', 'Ucrania', 'Uganda', 'Uruguay', 'Uzbekistán', 'Vanuatu', 'Venezuela', 'Viet Nam', 'Yemen, Rep. del', 'Zambia', 'Zimbabwe']\n"
     ]
    }
   ],
   "source": [
    "print(pais_ev) # true\n",
    "\n",
    "# Bahrein - Bahrain\n",
    "# Bhután - Bután\n",
    "# 'Egipto, República Árabe de' - 'Egipto'\n",
    "# 'Irán, República Islámica del' - 'Irán'\n",
    "# Kenya - Kenia\n",
    "# Lesotho - Lesoto\n",
    "# 'Nueva Zelandia' - 'Nueva Zelanda'\n",
    "# 'Papua Nueva Guinea' - 'Papúa Nueva Guinea'\n",
    "# Rwanda - Ruanda\n",
    "# Tanzanía - Tanzania"
   ]
  },
  {
   "cell_type": "code",
   "execution_count": 150,
   "metadata": {},
   "outputs": [
    {
     "name": "stdout",
     "output_type": "stream",
     "text": [
      "['Afganistán', 'Albania', 'Alemania', 'Angola', 'Antigua y Barbuda', 'Arabia Saudita', 'Argelia', 'Argentina', 'Armenia', 'Australia', 'Austria', 'Azerbaiyán', 'Bahamas', 'Bahrain', 'Bangladesh', 'Barbados', 'Belice', 'Benin', 'Bielorrusia', 'Bolivia', 'Bosnia y Herzegovina', 'Botswana', 'Brasil', 'Brunéi', 'Bulgaria', 'Burkina Faso', 'Burundi', 'Bután', 'Bélgica', 'Cabo Verde', 'Camboya', 'Camerún', 'Canadá', 'Catar', 'Chad', 'Chequia', 'Chile', 'China', 'Chipre', 'Colombia', 'Comoras', 'Corea del Sur', 'Costa Rica', 'Costa de Marfil', 'Croacia', 'Dinamarca', 'Dominica', 'Ecuador', 'Egipto', 'El Salvador', 'Emiratos Árabes Unidos', 'Eritrea', 'Eslovaquia', 'Eslovenia', 'España', 'Estados Federados de Micronesia', 'Estados Unidos', 'Estonia', 'Eswatini', 'Etiopía', 'Fiji', 'Filipinas', 'Finlandia', 'Francia', 'Gabón', 'Gambia', 'Georgia', 'Ghana', 'Granada', 'Grecia', 'Guatemala', 'Guinea', 'Guinea Ecuatorial', 'Guinea-Bisáu', 'Guyana', 'Haití', 'Honduras', 'Hong Kong', 'Hungría', 'India', 'Indonesia', 'Irak', 'Irlanda', 'Irán', 'Islandia', 'Islas Marshall', 'Islas Salomón', 'Israel', 'Italia', 'Jamaica', 'Japón', 'Jordania', 'Kazajstán', 'Kenia', 'Kirguistán', 'Kiribati', 'Kuwait', 'Laos', 'Lesoto', 'Letonia', 'Liberia', 'Libia', 'Lituania', 'Luxemburgo', 'Líbano', 'Macedonia del Norte', 'Madagascar', 'Malasia', 'Malawi', 'Maldivas', 'Malta', 'Malí', 'Marruecos', 'Mauricio', 'Mauritania', 'Moldavia', 'Mongolia', 'Montenegro', 'Mozambique', 'Myanmar', 'México', 'Namibia', 'Nepal', 'Nicaragua', 'Nigeria', 'Noruega', 'Nueva Zelanda', 'Níger', 'Omán', 'Pakistán', 'Palaos', 'Panamá', 'Papúa Nueva Guinea', 'Paraguay', 'Países Bajos', 'Perú', 'Polonia', 'Portugal', 'Reino Unido', 'República Centroafricana', 'República Democrática del Congo', 'República Dominicana', 'República del Congo', 'Ruanda', 'Rumanía', 'Rusia', 'Samoa', 'San Cristóbal y Nieves', 'San Marino', 'San Vicente y las Granadinas', 'Santa Lucía', 'Santo Tomé y Príncipe', 'Senegal', 'Serbia', 'Seychelles', 'Sierra Leona', 'Singapur', 'Siria', 'Sri Lanka', 'Sudáfrica', 'Sudán', 'Sudán del Sur', 'Suecia', 'Suiza', 'Surinam', 'Tailandia', 'Taiwan', 'Tanzania', 'Tayikistán', 'Timor Oriental', 'Togo', 'Tonga', 'Trinidad y Tobago', 'Turkmenistán', 'Tuvalu', 'Túnez', 'Türkiye', 'Ucrania', 'Uganda', 'Uruguay', 'Uzbekistán', 'Vanuatu', 'Venezuela', 'Viet Nam', 'Yemen', 'Yibuti', 'Zambia', 'Zimbabue']\n"
     ]
    }
   ],
   "source": [
    "print(pais_pib) # true\n",
    "\n",
    "# Bangladés - Bangladesh\n",
    "# Baréin - Bahrain\n",
    "# Botsuana - Botswana\n",
    "# Fiyi - Fiji \n",
    "# Kazajistán - Kazajstán\n",
    "# 'Malaui' - Malawi"
   ]
  },
  {
   "cell_type": "code",
   "execution_count": 152,
   "metadata": {},
   "outputs": [
    {
     "name": "stdout",
     "output_type": "stream",
     "text": [
      "['Afganistán', 'Albania', 'Argelia', 'Andorra', 'Angola', 'Antigua y Barbuda', 'Argentina', 'Armenia', 'Australia', 'Austria', 'Azerbaiyán', 'Las bahamas', 'Bahrain', 'Bangladesh', 'Barbados', 'Bielorrusia', 'Bélgica', 'Belgo', 'Benin', 'Bután', 'Bolivia', 'Bosnia y Herzegovina', 'Botswana', 'Brasil', 'Brunei', 'Bulgaria', 'Burkina Faso', 'Burundi', 'Costa marfil', 'Cabo Verde', 'Camboya', 'Camerún', 'Canadá', 'República Centroafricana', 'Chad', 'Chile', 'Porcelana', 'Colombia', 'Comoras', 'República del Congo', 'Costa Rica', 'Croacia', 'Cuba', 'Chipre', 'República Checa', 'República Democrática del Congo', 'Dinamarca', 'Djibouti', 'Dominio', 'República Dominicana', 'Ecuador', 'Egipto', 'El Salvador', 'Guinea Ecuatorial', 'Eritrea', 'Estonia', 'Eswatini', 'Etiopía', 'Fiji', 'Finlandia', 'Francia', 'Gabón', 'La gambia', 'Georgia', 'Alemania', 'Ghana', 'Grecia', 'Granada', 'Guatemala', 'Guinea', 'Guinea-Bissau', 'Guayana', 'Haití', 'Ciudad del Vaticano', 'Honduras', 'Hungría', 'Islandia', 'India', 'Indonesia', 'Irán', 'Irak', 'República de Irlanda', 'Israel', 'Italia', 'Jamaica', 'Japón', 'Jordán', 'Kazajstán', 'Kenia', 'Kiribati', 'Kuwait', 'Kirguistán', 'Laos', 'Letonia', 'Líbano', 'Lesoto', 'Liberia', 'Libia', 'Liechtenstein', 'Lituania', 'Luxemburgo', 'Madagascar', 'Malawi', 'Malasia', 'Maldivas', 'Malí', 'Malta', 'Islas Marshall', 'Mauritania', 'Mauricio', 'México', 'Estados federados de Micronesia', 'Moldava', 'Mónaco', 'Mongolia', 'Montenegro', 'Marruecos', 'Mozambique', 'Myanmar', 'Namibia', 'Nauru', 'Nepal', 'Países Bajos', 'Nueva Zelanda', 'Nicaragua', 'Níger', 'Nigeria', 'Corea del Norte', 'Macedonia del Norte', 'Noruega', 'Omán', 'Pakistán', 'Palau', 'Autoridad Nacional Palestina', 'Panamá', 'Papúa Nueva Guinea', 'Paraguay', 'Perú', 'Filipinas', 'Polonia', 'Portugal', 'Katar', 'Rumania', 'Rusia', 'Ruanda', 'Saint Kitts y Nevis', 'Santa Lucía', 'San Vicente y las Granadinas', 'Samoa', 'San Marino', 'S�����������', 'Arabia Saudita', 'Senegal', 'Serbia', 'Seychelles', 'Sierra Leona', 'Singapur', 'Eslovaquia', 'Eslovenia', 'Islas Salomón', 'Somalia', 'Sudáfrica', 'Corea del Sur', 'Sudán del Sur', 'España', 'Sri Lanka', 'Sudán', 'Surinam', 'Suecia', 'Suiza', 'Siria', 'Tayikistán', 'Tanzania', 'Tailandia', 'Timor este', 'Ir', 'Tonga', 'Trinidad y Tobago', 'Túnez', 'Pavo', 'Turkmenistán', 'Tuvalu', 'Uganda', 'Ucrania', 'Emiratos Árabes Unidos', 'Reino Unido', 'Estados Unidos', 'Uruguay', 'Uzbekistán', 'Vanuatu', 'Venezuela', 'Vietnam', 'Yemen', 'Zambia', 'Zimbabue']\n"
     ]
    }
   ],
   "source": [
    "print(pais_densidad)\n",
    "# las Bahamas - Bahamas\n",
    "# Dominio - Dominica\n",
    "# La gambia - Gambia\n",
    "# Guayana - Guyana\n"
   ]
  },
  {
   "cell_type": "code",
   "execution_count": 154,
   "metadata": {},
   "outputs": [],
   "source": [
    "# las Bahamas - Bahamas\n",
    "# Dominio - Dominica\n",
    "# La gambia - Gambia\n",
    "# Guayana - Guyana \n",
    "\n",
    "country_bahamas = \"las Bahamas\"\n",
    "country_dominio = \"Dominio\"\n",
    "country_gambia = \"La gambia\"\n",
    "country_guayana = \"Guayana\"\n",
    "\n",
    "densidad_data.loc[densidad_data['pais'] == country_bahamas, 'pais'] = \"Bahamas\"\n",
    "densidad_data.loc[densidad_data['pais'] == country_dominio, 'pais'] = \"Dominica\"\n",
    "densidad_data.loc[densidad_data['pais'] == country_gambia, 'pais'] = \"Gambia\"\n",
    "densidad_data.loc[densidad_data['pais'] == country_guayana, 'pais'] = \"Guyana\""
   ]
  },
  {
   "cell_type": "code",
   "execution_count": 155,
   "metadata": {},
   "outputs": [
    {
     "data": {
      "text/html": [
       "<div>\n",
       "<style scoped>\n",
       "    .dataframe tbody tr th:only-of-type {\n",
       "        vertical-align: middle;\n",
       "    }\n",
       "\n",
       "    .dataframe tbody tr th {\n",
       "        vertical-align: top;\n",
       "    }\n",
       "\n",
       "    .dataframe thead th {\n",
       "        text-align: right;\n",
       "    }\n",
       "</style>\n",
       "<table border=\"1\" class=\"dataframe\">\n",
       "  <thead>\n",
       "    <tr style=\"text-align: right;\">\n",
       "      <th></th>\n",
       "      <th>pais</th>\n",
       "      <th>Densidad(P/Km2)-2023</th>\n",
       "      <th>EV(age)-2020</th>\n",
       "    </tr>\n",
       "  </thead>\n",
       "  <tbody>\n",
       "    <tr>\n",
       "      <th>0</th>\n",
       "      <td>Afganistán</td>\n",
       "      <td>60</td>\n",
       "      <td>65.17</td>\n",
       "    </tr>\n",
       "    <tr>\n",
       "      <th>1</th>\n",
       "      <td>Albania</td>\n",
       "      <td>105</td>\n",
       "      <td>78.69</td>\n",
       "    </tr>\n",
       "    <tr>\n",
       "      <th>2</th>\n",
       "      <td>Argelia</td>\n",
       "      <td>18</td>\n",
       "      <td>77.06</td>\n",
       "    </tr>\n",
       "    <tr>\n",
       "      <th>3</th>\n",
       "      <td>Angola</td>\n",
       "      <td>26</td>\n",
       "      <td>61.49</td>\n",
       "    </tr>\n",
       "    <tr>\n",
       "      <th>4</th>\n",
       "      <td>Antigua y Barbuda</td>\n",
       "      <td>223</td>\n",
       "      <td>77.15</td>\n",
       "    </tr>\n",
       "    <tr>\n",
       "      <th>...</th>\n",
       "      <td>...</td>\n",
       "      <td>...</td>\n",
       "      <td>...</td>\n",
       "    </tr>\n",
       "    <tr>\n",
       "      <th>147</th>\n",
       "      <td>Uruguay</td>\n",
       "      <td>20</td>\n",
       "      <td>78.06</td>\n",
       "    </tr>\n",
       "    <tr>\n",
       "      <th>148</th>\n",
       "      <td>Uzbekistán</td>\n",
       "      <td>79</td>\n",
       "      <td>71.85</td>\n",
       "    </tr>\n",
       "    <tr>\n",
       "      <th>149</th>\n",
       "      <td>Vanuatu</td>\n",
       "      <td>25</td>\n",
       "      <td>70.62</td>\n",
       "    </tr>\n",
       "    <tr>\n",
       "      <th>150</th>\n",
       "      <td>Venezuela</td>\n",
       "      <td>32</td>\n",
       "      <td>72.07</td>\n",
       "    </tr>\n",
       "    <tr>\n",
       "      <th>151</th>\n",
       "      <td>Zambia</td>\n",
       "      <td>25</td>\n",
       "      <td>64.19</td>\n",
       "    </tr>\n",
       "  </tbody>\n",
       "</table>\n",
       "<p>152 rows × 3 columns</p>\n",
       "</div>"
      ],
      "text/plain": [
       "                  pais Densidad(P/Km2)-2023 EV(age)-2020\n",
       "0           Afganistán                   60        65.17\n",
       "1              Albania                  105        78.69\n",
       "2              Argelia                   18        77.06\n",
       "3               Angola                   26        61.49\n",
       "4    Antigua y Barbuda                  223        77.15\n",
       "..                 ...                  ...          ...\n",
       "147            Uruguay                   20        78.06\n",
       "148         Uzbekistán                   79        71.85\n",
       "149            Vanuatu                   25        70.62\n",
       "150          Venezuela                   32        72.07\n",
       "151             Zambia                   25        64.19\n",
       "\n",
       "[152 rows x 3 columns]"
      ]
     },
     "execution_count": 155,
     "metadata": {},
     "output_type": "execute_result"
    }
   ],
   "source": [
    "data = pd.merge(densidad_data, ev_data, on=\"pais\")\n",
    "data"
   ]
  },
  {
   "cell_type": "code",
   "execution_count": 156,
   "metadata": {},
   "outputs": [
    {
     "data": {
      "text/html": [
       "<div>\n",
       "<style scoped>\n",
       "    .dataframe tbody tr th:only-of-type {\n",
       "        vertical-align: middle;\n",
       "    }\n",
       "\n",
       "    .dataframe tbody tr th {\n",
       "        vertical-align: top;\n",
       "    }\n",
       "\n",
       "    .dataframe thead th {\n",
       "        text-align: right;\n",
       "    }\n",
       "</style>\n",
       "<table border=\"1\" class=\"dataframe\">\n",
       "  <thead>\n",
       "    <tr style=\"text-align: right;\">\n",
       "      <th></th>\n",
       "      <th>pais</th>\n",
       "      <th>Densidad(P/Km2)-2023</th>\n",
       "      <th>EV(age)-2020</th>\n",
       "      <th>internet(%)-2023</th>\n",
       "      <th>inflacion(%)-2023</th>\n",
       "    </tr>\n",
       "  </thead>\n",
       "  <tbody>\n",
       "    <tr>\n",
       "      <th>0</th>\n",
       "      <td>Albania</td>\n",
       "      <td>105</td>\n",
       "      <td>78.69</td>\n",
       "      <td>83.1</td>\n",
       "      <td>4.759764</td>\n",
       "    </tr>\n",
       "    <tr>\n",
       "      <th>1</th>\n",
       "      <td>Argelia</td>\n",
       "      <td>18</td>\n",
       "      <td>77.06</td>\n",
       "      <td>76.9</td>\n",
       "      <td>9.322174</td>\n",
       "    </tr>\n",
       "    <tr>\n",
       "      <th>2</th>\n",
       "      <td>Angola</td>\n",
       "      <td>26</td>\n",
       "      <td>61.49</td>\n",
       "      <td>44.8</td>\n",
       "      <td>13.644102</td>\n",
       "    </tr>\n",
       "    <tr>\n",
       "      <th>3</th>\n",
       "      <td>Antigua y Barbuda</td>\n",
       "      <td>223</td>\n",
       "      <td>77.15</td>\n",
       "      <td>77.6</td>\n",
       "      <td>5.067139</td>\n",
       "    </tr>\n",
       "    <tr>\n",
       "      <th>4</th>\n",
       "      <td>Armenia</td>\n",
       "      <td>104</td>\n",
       "      <td>75.22</td>\n",
       "      <td>80.0</td>\n",
       "      <td>1.980419</td>\n",
       "    </tr>\n",
       "    <tr>\n",
       "      <th>...</th>\n",
       "      <td>...</td>\n",
       "      <td>...</td>\n",
       "      <td>...</td>\n",
       "      <td>...</td>\n",
       "      <td>...</td>\n",
       "    </tr>\n",
       "    <tr>\n",
       "      <th>122</th>\n",
       "      <td>Emiratos Árabes Unidos</td>\n",
       "      <td>118</td>\n",
       "      <td>78.12</td>\n",
       "      <td>100.0</td>\n",
       "      <td>1.626708</td>\n",
       "    </tr>\n",
       "    <tr>\n",
       "      <th>123</th>\n",
       "      <td>Reino Unido</td>\n",
       "      <td>281</td>\n",
       "      <td>80.90</td>\n",
       "      <td>96.3</td>\n",
       "      <td>6.793967</td>\n",
       "    </tr>\n",
       "    <tr>\n",
       "      <th>124</th>\n",
       "      <td>Estados Unidos</td>\n",
       "      <td>36</td>\n",
       "      <td>77.28</td>\n",
       "      <td>93.1</td>\n",
       "      <td>4.116338</td>\n",
       "    </tr>\n",
       "    <tr>\n",
       "      <th>125</th>\n",
       "      <td>Uruguay</td>\n",
       "      <td>20</td>\n",
       "      <td>78.06</td>\n",
       "      <td>89.9</td>\n",
       "      <td>5.869104</td>\n",
       "    </tr>\n",
       "    <tr>\n",
       "      <th>126</th>\n",
       "      <td>Zambia</td>\n",
       "      <td>25</td>\n",
       "      <td>64.19</td>\n",
       "      <td>33.0</td>\n",
       "      <td>10.884532</td>\n",
       "    </tr>\n",
       "  </tbody>\n",
       "</table>\n",
       "<p>127 rows × 5 columns</p>\n",
       "</div>"
      ],
      "text/plain": [
       "                       pais Densidad(P/Km2)-2023 EV(age)-2020  \\\n",
       "0                   Albania                  105        78.69   \n",
       "1                   Argelia                   18        77.06   \n",
       "2                    Angola                   26        61.49   \n",
       "3         Antigua y Barbuda                  223        77.15   \n",
       "4                   Armenia                  104        75.22   \n",
       "..                      ...                  ...          ...   \n",
       "122  Emiratos Árabes Unidos                  118        78.12   \n",
       "123             Reino Unido                  281        80.90   \n",
       "124          Estados Unidos                   36        77.28   \n",
       "125                 Uruguay                   20        78.06   \n",
       "126                  Zambia                   25        64.19   \n",
       "\n",
       "    internet(%)-2023 inflacion(%)-2023  \n",
       "0               83.1          4.759764  \n",
       "1               76.9          9.322174  \n",
       "2               44.8         13.644102  \n",
       "3               77.6          5.067139  \n",
       "4               80.0          1.980419  \n",
       "..               ...               ...  \n",
       "122            100.0          1.626708  \n",
       "123             96.3          6.793967  \n",
       "124             93.1          4.116338  \n",
       "125             89.9          5.869104  \n",
       "126             33.0         10.884532  \n",
       "\n",
       "[127 rows x 5 columns]"
      ]
     },
     "execution_count": 156,
     "metadata": {},
     "output_type": "execute_result"
    }
   ],
   "source": [
    "data = pd.merge(data, inflacion_internet,on=\"pais\")\n",
    "data"
   ]
  },
  {
   "cell_type": "code",
   "execution_count": 157,
   "metadata": {},
   "outputs": [
    {
     "data": {
      "text/html": [
       "<div>\n",
       "<style scoped>\n",
       "    .dataframe tbody tr th:only-of-type {\n",
       "        vertical-align: middle;\n",
       "    }\n",
       "\n",
       "    .dataframe tbody tr th {\n",
       "        vertical-align: top;\n",
       "    }\n",
       "\n",
       "    .dataframe thead th {\n",
       "        text-align: right;\n",
       "    }\n",
       "</style>\n",
       "<table border=\"1\" class=\"dataframe\">\n",
       "  <thead>\n",
       "    <tr style=\"text-align: right;\">\n",
       "      <th></th>\n",
       "      <th>pais</th>\n",
       "      <th>Densidad(P/Km2)-2023</th>\n",
       "      <th>EV(age)-2020</th>\n",
       "      <th>internet(%)-2023</th>\n",
       "      <th>inflacion(%)-2023</th>\n",
       "      <th>PIB(anual, Eur)-2023</th>\n",
       "    </tr>\n",
       "  </thead>\n",
       "  <tbody>\n",
       "    <tr>\n",
       "      <th>0</th>\n",
       "      <td>Albania</td>\n",
       "      <td>105</td>\n",
       "      <td>78.69</td>\n",
       "      <td>83.1</td>\n",
       "      <td>4.759764</td>\n",
       "      <td>25122</td>\n",
       "    </tr>\n",
       "    <tr>\n",
       "      <th>1</th>\n",
       "      <td>Argelia</td>\n",
       "      <td>18</td>\n",
       "      <td>77.06</td>\n",
       "      <td>76.9</td>\n",
       "      <td>9.322174</td>\n",
       "      <td>221957</td>\n",
       "    </tr>\n",
       "    <tr>\n",
       "      <th>2</th>\n",
       "      <td>Angola</td>\n",
       "      <td>26</td>\n",
       "      <td>61.49</td>\n",
       "      <td>44.8</td>\n",
       "      <td>13.644102</td>\n",
       "      <td>83029</td>\n",
       "    </tr>\n",
       "    <tr>\n",
       "      <th>3</th>\n",
       "      <td>Antigua y Barbuda</td>\n",
       "      <td>223</td>\n",
       "      <td>77.15</td>\n",
       "      <td>77.6</td>\n",
       "      <td>5.067139</td>\n",
       "      <td>1880</td>\n",
       "    </tr>\n",
       "    <tr>\n",
       "      <th>4</th>\n",
       "      <td>Armenia</td>\n",
       "      <td>104</td>\n",
       "      <td>75.22</td>\n",
       "      <td>80.0</td>\n",
       "      <td>1.980419</td>\n",
       "      <td>22262</td>\n",
       "    </tr>\n",
       "    <tr>\n",
       "      <th>...</th>\n",
       "      <td>...</td>\n",
       "      <td>...</td>\n",
       "      <td>...</td>\n",
       "      <td>...</td>\n",
       "      <td>...</td>\n",
       "      <td>...</td>\n",
       "    </tr>\n",
       "    <tr>\n",
       "      <th>121</th>\n",
       "      <td>Emiratos Árabes Unidos</td>\n",
       "      <td>118</td>\n",
       "      <td>78.12</td>\n",
       "      <td>100.0</td>\n",
       "      <td>1.626708</td>\n",
       "      <td>475351</td>\n",
       "    </tr>\n",
       "    <tr>\n",
       "      <th>122</th>\n",
       "      <td>Reino Unido</td>\n",
       "      <td>281</td>\n",
       "      <td>80.90</td>\n",
       "      <td>96.3</td>\n",
       "      <td>6.793967</td>\n",
       "      <td>3364019</td>\n",
       "    </tr>\n",
       "    <tr>\n",
       "      <th>123</th>\n",
       "      <td>Estados Unidos</td>\n",
       "      <td>36</td>\n",
       "      <td>77.28</td>\n",
       "      <td>93.1</td>\n",
       "      <td>4.116338</td>\n",
       "      <td>26962619</td>\n",
       "    </tr>\n",
       "    <tr>\n",
       "      <th>124</th>\n",
       "      <td>Uruguay</td>\n",
       "      <td>20</td>\n",
       "      <td>78.06</td>\n",
       "      <td>89.9</td>\n",
       "      <td>5.869104</td>\n",
       "      <td>71415</td>\n",
       "    </tr>\n",
       "    <tr>\n",
       "      <th>125</th>\n",
       "      <td>Zambia</td>\n",
       "      <td>25</td>\n",
       "      <td>64.19</td>\n",
       "      <td>33.0</td>\n",
       "      <td>10.884532</td>\n",
       "      <td>25482</td>\n",
       "    </tr>\n",
       "  </tbody>\n",
       "</table>\n",
       "<p>126 rows × 6 columns</p>\n",
       "</div>"
      ],
      "text/plain": [
       "                       pais Densidad(P/Km2)-2023 EV(age)-2020  \\\n",
       "0                   Albania                  105        78.69   \n",
       "1                   Argelia                   18        77.06   \n",
       "2                    Angola                   26        61.49   \n",
       "3         Antigua y Barbuda                  223        77.15   \n",
       "4                   Armenia                  104        75.22   \n",
       "..                      ...                  ...          ...   \n",
       "121  Emiratos Árabes Unidos                  118        78.12   \n",
       "122             Reino Unido                  281        80.90   \n",
       "123          Estados Unidos                   36        77.28   \n",
       "124                 Uruguay                   20        78.06   \n",
       "125                  Zambia                   25        64.19   \n",
       "\n",
       "    internet(%)-2023 inflacion(%)-2023 PIB(anual, Eur)-2023  \n",
       "0               83.1          4.759764                25122  \n",
       "1               76.9          9.322174               221957  \n",
       "2               44.8         13.644102                83029  \n",
       "3               77.6          5.067139                 1880  \n",
       "4               80.0          1.980419                22262  \n",
       "..               ...               ...                  ...  \n",
       "121            100.0          1.626708               475351  \n",
       "122             96.3          6.793967              3364019  \n",
       "123             93.1          4.116338             26962619  \n",
       "124             89.9          5.869104                71415  \n",
       "125             33.0         10.884532                25482  \n",
       "\n",
       "[126 rows x 6 columns]"
      ]
     },
     "execution_count": 157,
     "metadata": {},
     "output_type": "execute_result"
    }
   ],
   "source": [
    "data = pd.merge(data, pib_data,on=\"pais\")\n",
    "data"
   ]
  },
  {
   "cell_type": "code",
   "execution_count": 158,
   "metadata": {},
   "outputs": [
    {
     "name": "stdout",
     "output_type": "stream",
     "text": [
      "<class 'pandas.core.frame.DataFrame'>\n",
      "RangeIndex: 126 entries, 0 to 125\n",
      "Data columns (total 6 columns):\n",
      " #   Column                Non-Null Count  Dtype \n",
      "---  ------                --------------  ----- \n",
      " 0   pais                  126 non-null    object\n",
      " 1   Densidad(P/Km2)-2023  126 non-null    object\n",
      " 2   EV(age)-2020          126 non-null    object\n",
      " 3   internet(%)-2023      126 non-null    object\n",
      " 4   inflacion(%)-2023     126 non-null    object\n",
      " 5   PIB(anual, Eur)-2023  126 non-null    object\n",
      "dtypes: object(6)\n",
      "memory usage: 6.0+ KB\n"
     ]
    }
   ],
   "source": [
    "data.info()"
   ]
  },
  {
   "cell_type": "code",
   "execution_count": 159,
   "metadata": {},
   "outputs": [
    {
     "name": "stdout",
     "output_type": "stream",
     "text": [
      "                pais Densidad(P/Km2)-2023 EV(age)-2020 internet(%)-2023  \\\n",
      "0            Albania                  105        78.69             83.1   \n",
      "1            Argelia                   18        77.06             76.9   \n",
      "2             Angola                   26        61.49             44.8   \n",
      "3  Antigua y Barbuda                  223        77.15             77.6   \n",
      "4            Armenia                  104        75.22             80.0   \n",
      "\n",
      "  inflacion(%)-2023 PIB(anual, Eur)-2023 continente  \n",
      "0          4.759764                25122     Europa  \n",
      "1          9.322174               221957     África  \n",
      "2         13.644102                83029     África  \n",
      "3          5.067139                 1880    América  \n",
      "4          1.980419                22262       Asia  \n"
     ]
    }
   ],
   "source": [
    "import pandas as pd\n",
    "\n",
    "# Suponiendo que 'data' es tu DataFrame existente\n",
    "# Mapeo de países a continentes\n",
    "continent_mapping = {\n",
    "    'Albania': 'Europa', 'Argelia': 'África', 'Angola': 'África', 'Antigua y Barbuda': 'América',\n",
    "    'Armenia': 'Asia', 'Australia': 'Oceanía', 'Austria': 'Europa', 'Azerbaiyán': 'Asia',\n",
    "    'Bahrain': 'Asia', 'Bangladesh': 'Asia', 'Barbados': 'América', 'Bélgica': 'Europa',\n",
    "    'Benin': 'África', 'Bután': 'Asia', 'Bolivia': 'América', 'Bosnia y Herzegovina': 'Europa',\n",
    "    'Botswana': 'África', 'Brasil': 'América', 'Bulgaria': 'Europa', 'Burkina Faso': 'África',\n",
    "    'Burundi': 'África', 'Cabo Verde': 'África', 'Camboya': 'Asia', 'Camerún': 'África',\n",
    "    'Canadá': 'América', 'Chad': 'África', 'Chile': 'América', 'Colombia': 'América',\n",
    "    'Costa Rica': 'América', 'Croacia': 'Europa', 'Chipre': 'Asia', 'Dinamarca': 'Europa',\n",
    "    'Dominica': 'América', 'República Dominicana': 'América', 'Ecuador': 'América', 'Egipto': 'África',\n",
    "    'El Salvador': 'América', 'Estonia': 'Europa', 'Fiji': 'Oceanía', 'Finlandia': 'Europa',\n",
    "    'Francia': 'Europa', 'Gabón': 'África', 'Gambia': 'África', 'Georgia': 'Asia',\n",
    "    'Alemania': 'Europa', 'Ghana': 'África', 'Grecia': 'Europa', 'Granada': 'América',\n",
    "    'Guinea': 'África', 'Guyana': 'América', 'Honduras': 'América', 'Hungría': 'Europa',\n",
    "    'Islandia': 'Europa', 'Indonesia': 'Asia', 'Irán': 'Asia', 'Israel': 'Asia', 'Italia': 'Europa',\n",
    "    'Jamaica': 'América', 'Japón': 'Asia', 'Kazajstán': 'Asia', 'Kenia': 'África', 'Kiribati': 'Oceanía',\n",
    "    'Kuwait': 'Asia', 'Kirguistán': 'Asia', 'Letonia': 'Europa', 'Líbano': 'Asia', 'Liberia': 'África',\n",
    "    'Libia': 'África', 'Lituania': 'Europa', 'Luxemburgo': 'Europa', 'Madagascar': 'África',\n",
    "    'Malawi': 'África', 'Malasia': 'Asia', 'Malí': 'África', 'Malta': 'Europa', 'Mauritania': 'África',\n",
    "    'Mauricio': 'África', 'México': 'América', 'Mongolia': 'Asia', 'Montenegro': 'Europa',\n",
    "    'Marruecos': 'África', 'Mozambique': 'África', 'Namibia': 'África', 'Nepal': 'Asia',\n",
    "    'Países Bajos': 'Europa', 'Nueva Zelanda': 'Oceanía', 'Nicaragua': 'América', 'Níger': 'África',\n",
    "    'Nigeria': 'África', 'Noruega': 'Europa', 'Omán': 'Asia', 'Pakistán': 'Asia', 'Panamá': 'América',\n",
    "    'Papúa Nueva Guinea': 'Oceanía', 'Paraguay': 'América', 'Perú': 'América', 'Filipinas': 'Asia',\n",
    "    'Polonia': 'Europa', 'Portugal': 'Europa', 'Santa Lucía': 'América', 'San Vicente y las Granadinas': 'América',\n",
    "    'Arabia Saudita': 'Asia', 'Senegal': 'África', 'Serbia': 'Europa', 'Seychelles': 'África',\n",
    "    'Sierra Leona': 'África', 'Singapur': 'Asia', 'Eslovenia': 'Europa', 'Islas Salomón': 'Oceanía',\n",
    "    'Sudáfrica': 'África', 'España': 'Europa', 'Sri Lanka': 'Asia', 'Suecia': 'Europa', 'Suiza': 'Europa',\n",
    "    'Tanzania': 'África', 'Tailandia': 'Asia', 'Tonga': 'Oceanía', 'Trinidad y Tobago': 'América',\n",
    "    'Túnez': 'África', 'Uganda': 'África', 'Ucrania': 'Europa', 'Emiratos Árabes Unidos': 'Asia',\n",
    "    'Reino Unido': 'Europa', 'Estados Unidos': 'América', 'Uruguay': 'América', 'Zambia': 'África'\n",
    "}\n",
    "\n",
    "# Agregar la columna de continentes al DataFrame\n",
    "data['continente'] = data['pais'].map(continent_mapping)\n",
    "\n",
    "# Mostrar el DataFrame resultante\n",
    "print(data.head())\n",
    "\n"
   ]
  },
  {
   "cell_type": "code",
   "execution_count": 161,
   "metadata": {},
   "outputs": [
    {
     "data": {
      "text/html": [
       "<div>\n",
       "<style scoped>\n",
       "    .dataframe tbody tr th:only-of-type {\n",
       "        vertical-align: middle;\n",
       "    }\n",
       "\n",
       "    .dataframe tbody tr th {\n",
       "        vertical-align: top;\n",
       "    }\n",
       "\n",
       "    .dataframe thead th {\n",
       "        text-align: right;\n",
       "    }\n",
       "</style>\n",
       "<table border=\"1\" class=\"dataframe\">\n",
       "  <thead>\n",
       "    <tr style=\"text-align: right;\">\n",
       "      <th></th>\n",
       "      <th>pais</th>\n",
       "      <th>Densidad(P/Km2)-2023</th>\n",
       "      <th>EV(age)-2020</th>\n",
       "      <th>internet(%)-2023</th>\n",
       "      <th>inflacion(%)-2023</th>\n",
       "      <th>PIB(anual, Eur)-2023</th>\n",
       "      <th>continente</th>\n",
       "    </tr>\n",
       "  </thead>\n",
       "  <tbody>\n",
       "    <tr>\n",
       "      <th>0</th>\n",
       "      <td>Albania</td>\n",
       "      <td>105</td>\n",
       "      <td>78.69</td>\n",
       "      <td>83.1</td>\n",
       "      <td>4.759764</td>\n",
       "      <td>25122</td>\n",
       "      <td>Europa</td>\n",
       "    </tr>\n",
       "    <tr>\n",
       "      <th>1</th>\n",
       "      <td>Argelia</td>\n",
       "      <td>18</td>\n",
       "      <td>77.06</td>\n",
       "      <td>76.9</td>\n",
       "      <td>9.322174</td>\n",
       "      <td>221957</td>\n",
       "      <td>África</td>\n",
       "    </tr>\n",
       "    <tr>\n",
       "      <th>2</th>\n",
       "      <td>Angola</td>\n",
       "      <td>26</td>\n",
       "      <td>61.49</td>\n",
       "      <td>44.8</td>\n",
       "      <td>13.644102</td>\n",
       "      <td>83029</td>\n",
       "      <td>África</td>\n",
       "    </tr>\n",
       "    <tr>\n",
       "      <th>3</th>\n",
       "      <td>Antigua y Barbuda</td>\n",
       "      <td>223</td>\n",
       "      <td>77.15</td>\n",
       "      <td>77.6</td>\n",
       "      <td>5.067139</td>\n",
       "      <td>1880</td>\n",
       "      <td>América</td>\n",
       "    </tr>\n",
       "    <tr>\n",
       "      <th>4</th>\n",
       "      <td>Armenia</td>\n",
       "      <td>104</td>\n",
       "      <td>75.22</td>\n",
       "      <td>80.0</td>\n",
       "      <td>1.980419</td>\n",
       "      <td>22262</td>\n",
       "      <td>Asia</td>\n",
       "    </tr>\n",
       "    <tr>\n",
       "      <th>...</th>\n",
       "      <td>...</td>\n",
       "      <td>...</td>\n",
       "      <td>...</td>\n",
       "      <td>...</td>\n",
       "      <td>...</td>\n",
       "      <td>...</td>\n",
       "      <td>...</td>\n",
       "    </tr>\n",
       "    <tr>\n",
       "      <th>121</th>\n",
       "      <td>Emiratos Árabes Unidos</td>\n",
       "      <td>118</td>\n",
       "      <td>78.12</td>\n",
       "      <td>100.0</td>\n",
       "      <td>1.626708</td>\n",
       "      <td>475351</td>\n",
       "      <td>Asia</td>\n",
       "    </tr>\n",
       "    <tr>\n",
       "      <th>122</th>\n",
       "      <td>Reino Unido</td>\n",
       "      <td>281</td>\n",
       "      <td>80.90</td>\n",
       "      <td>96.3</td>\n",
       "      <td>6.793967</td>\n",
       "      <td>3364019</td>\n",
       "      <td>Europa</td>\n",
       "    </tr>\n",
       "    <tr>\n",
       "      <th>123</th>\n",
       "      <td>Estados Unidos</td>\n",
       "      <td>36</td>\n",
       "      <td>77.28</td>\n",
       "      <td>93.1</td>\n",
       "      <td>4.116338</td>\n",
       "      <td>26962619</td>\n",
       "      <td>América</td>\n",
       "    </tr>\n",
       "    <tr>\n",
       "      <th>124</th>\n",
       "      <td>Uruguay</td>\n",
       "      <td>20</td>\n",
       "      <td>78.06</td>\n",
       "      <td>89.9</td>\n",
       "      <td>5.869104</td>\n",
       "      <td>71415</td>\n",
       "      <td>América</td>\n",
       "    </tr>\n",
       "    <tr>\n",
       "      <th>125</th>\n",
       "      <td>Zambia</td>\n",
       "      <td>25</td>\n",
       "      <td>64.19</td>\n",
       "      <td>33.0</td>\n",
       "      <td>10.884532</td>\n",
       "      <td>25482</td>\n",
       "      <td>África</td>\n",
       "    </tr>\n",
       "  </tbody>\n",
       "</table>\n",
       "<p>126 rows × 7 columns</p>\n",
       "</div>"
      ],
      "text/plain": [
       "                       pais Densidad(P/Km2)-2023 EV(age)-2020  \\\n",
       "0                   Albania                  105        78.69   \n",
       "1                   Argelia                   18        77.06   \n",
       "2                    Angola                   26        61.49   \n",
       "3         Antigua y Barbuda                  223        77.15   \n",
       "4                   Armenia                  104        75.22   \n",
       "..                      ...                  ...          ...   \n",
       "121  Emiratos Árabes Unidos                  118        78.12   \n",
       "122             Reino Unido                  281        80.90   \n",
       "123          Estados Unidos                   36        77.28   \n",
       "124                 Uruguay                   20        78.06   \n",
       "125                  Zambia                   25        64.19   \n",
       "\n",
       "    internet(%)-2023 inflacion(%)-2023 PIB(anual, Eur)-2023 continente  \n",
       "0               83.1          4.759764                25122     Europa  \n",
       "1               76.9          9.322174               221957     África  \n",
       "2               44.8         13.644102                83029     África  \n",
       "3               77.6          5.067139                 1880    América  \n",
       "4               80.0          1.980419                22262       Asia  \n",
       "..               ...               ...                  ...        ...  \n",
       "121            100.0          1.626708               475351       Asia  \n",
       "122             96.3          6.793967              3364019     Europa  \n",
       "123             93.1          4.116338             26962619    América  \n",
       "124             89.9          5.869104                71415    América  \n",
       "125             33.0         10.884532                25482     África  \n",
       "\n",
       "[126 rows x 7 columns]"
      ]
     },
     "execution_count": 161,
     "metadata": {},
     "output_type": "execute_result"
    }
   ],
   "source": [
    "data"
   ]
  },
  {
   "cell_type": "code",
   "execution_count": 162,
   "metadata": {},
   "outputs": [
    {
     "name": "stdout",
     "output_type": "stream",
     "text": [
      "<class 'pandas.core.frame.DataFrame'>\n",
      "RangeIndex: 126 entries, 0 to 125\n",
      "Data columns (total 7 columns):\n",
      " #   Column                Non-Null Count  Dtype \n",
      "---  ------                --------------  ----- \n",
      " 0   pais                  126 non-null    object\n",
      " 1   Densidad(P/Km2)-2023  126 non-null    object\n",
      " 2   EV(age)-2020          126 non-null    object\n",
      " 3   internet(%)-2023      126 non-null    object\n",
      " 4   inflacion(%)-2023     126 non-null    object\n",
      " 5   PIB(anual, Eur)-2023  126 non-null    object\n",
      " 6   continente            126 non-null    object\n",
      "dtypes: object(7)\n",
      "memory usage: 7.0+ KB\n"
     ]
    }
   ],
   "source": [
    "data.info()"
   ]
  },
  {
   "cell_type": "code",
   "execution_count": 170,
   "metadata": {},
   "outputs": [
    {
     "name": "stdout",
     "output_type": "stream",
     "text": [
      "pais                     object\n",
      "Densidad(P/Km2)-2023    float64\n",
      "EV(age)-2020             object\n",
      "internet(%)-2023        float64\n",
      "inflacion(%)-2023       float64\n",
      "PIB(anual, Eur)-2023     object\n",
      "continente               object\n",
      "dtype: object\n"
     ]
    }
   ],
   "source": [
    "print(data.dtypes)"
   ]
  },
  {
   "cell_type": "code",
   "execution_count": 173,
   "metadata": {},
   "outputs": [
    {
     "data": {
      "text/html": [
       "<div>\n",
       "<style scoped>\n",
       "    .dataframe tbody tr th:only-of-type {\n",
       "        vertical-align: middle;\n",
       "    }\n",
       "\n",
       "    .dataframe tbody tr th {\n",
       "        vertical-align: top;\n",
       "    }\n",
       "\n",
       "    .dataframe thead th {\n",
       "        text-align: right;\n",
       "    }\n",
       "</style>\n",
       "<table border=\"1\" class=\"dataframe\">\n",
       "  <thead>\n",
       "    <tr style=\"text-align: right;\">\n",
       "      <th></th>\n",
       "      <th>pais</th>\n",
       "      <th>Densidad(P/Km2)-2023</th>\n",
       "      <th>EV(age)-2020</th>\n",
       "      <th>internet(%)-2023</th>\n",
       "      <th>inflacion(%)-2023</th>\n",
       "      <th>PIB(anual, Eur)-2023</th>\n",
       "      <th>continente</th>\n",
       "    </tr>\n",
       "  </thead>\n",
       "  <tbody>\n",
       "    <tr>\n",
       "      <th>0</th>\n",
       "      <td>Albania</td>\n",
       "      <td>105.0</td>\n",
       "      <td>78.69</td>\n",
       "      <td>83.1</td>\n",
       "      <td>4.759764</td>\n",
       "      <td>25122</td>\n",
       "      <td>Europa</td>\n",
       "    </tr>\n",
       "    <tr>\n",
       "      <th>1</th>\n",
       "      <td>Argelia</td>\n",
       "      <td>18.0</td>\n",
       "      <td>77.06</td>\n",
       "      <td>76.9</td>\n",
       "      <td>9.322174</td>\n",
       "      <td>221957</td>\n",
       "      <td>África</td>\n",
       "    </tr>\n",
       "    <tr>\n",
       "      <th>2</th>\n",
       "      <td>Angola</td>\n",
       "      <td>26.0</td>\n",
       "      <td>61.49</td>\n",
       "      <td>44.8</td>\n",
       "      <td>13.644102</td>\n",
       "      <td>83029</td>\n",
       "      <td>África</td>\n",
       "    </tr>\n",
       "    <tr>\n",
       "      <th>3</th>\n",
       "      <td>Antigua y Barbuda</td>\n",
       "      <td>223.0</td>\n",
       "      <td>77.15</td>\n",
       "      <td>77.6</td>\n",
       "      <td>5.067139</td>\n",
       "      <td>1880</td>\n",
       "      <td>América</td>\n",
       "    </tr>\n",
       "    <tr>\n",
       "      <th>4</th>\n",
       "      <td>Armenia</td>\n",
       "      <td>104.0</td>\n",
       "      <td>75.22</td>\n",
       "      <td>80.0</td>\n",
       "      <td>1.980419</td>\n",
       "      <td>22262</td>\n",
       "      <td>Asia</td>\n",
       "    </tr>\n",
       "    <tr>\n",
       "      <th>...</th>\n",
       "      <td>...</td>\n",
       "      <td>...</td>\n",
       "      <td>...</td>\n",
       "      <td>...</td>\n",
       "      <td>...</td>\n",
       "      <td>...</td>\n",
       "      <td>...</td>\n",
       "    </tr>\n",
       "    <tr>\n",
       "      <th>121</th>\n",
       "      <td>Emiratos Árabes Unidos</td>\n",
       "      <td>118.0</td>\n",
       "      <td>78.12</td>\n",
       "      <td>100.0</td>\n",
       "      <td>1.626708</td>\n",
       "      <td>475351</td>\n",
       "      <td>Asia</td>\n",
       "    </tr>\n",
       "    <tr>\n",
       "      <th>122</th>\n",
       "      <td>Reino Unido</td>\n",
       "      <td>281.0</td>\n",
       "      <td>80.90</td>\n",
       "      <td>96.3</td>\n",
       "      <td>6.793967</td>\n",
       "      <td>3364019</td>\n",
       "      <td>Europa</td>\n",
       "    </tr>\n",
       "    <tr>\n",
       "      <th>123</th>\n",
       "      <td>Estados Unidos</td>\n",
       "      <td>36.0</td>\n",
       "      <td>77.28</td>\n",
       "      <td>93.1</td>\n",
       "      <td>4.116338</td>\n",
       "      <td>26962619</td>\n",
       "      <td>América</td>\n",
       "    </tr>\n",
       "    <tr>\n",
       "      <th>124</th>\n",
       "      <td>Uruguay</td>\n",
       "      <td>20.0</td>\n",
       "      <td>78.06</td>\n",
       "      <td>89.9</td>\n",
       "      <td>5.869104</td>\n",
       "      <td>71415</td>\n",
       "      <td>América</td>\n",
       "    </tr>\n",
       "    <tr>\n",
       "      <th>125</th>\n",
       "      <td>Zambia</td>\n",
       "      <td>25.0</td>\n",
       "      <td>64.19</td>\n",
       "      <td>33.0</td>\n",
       "      <td>10.884532</td>\n",
       "      <td>25482</td>\n",
       "      <td>África</td>\n",
       "    </tr>\n",
       "  </tbody>\n",
       "</table>\n",
       "<p>126 rows × 7 columns</p>\n",
       "</div>"
      ],
      "text/plain": [
       "                       pais  Densidad(P/Km2)-2023  EV(age)-2020  \\\n",
       "0                   Albania                 105.0         78.69   \n",
       "1                   Argelia                  18.0         77.06   \n",
       "2                    Angola                  26.0         61.49   \n",
       "3         Antigua y Barbuda                 223.0         77.15   \n",
       "4                   Armenia                 104.0         75.22   \n",
       "..                      ...                   ...           ...   \n",
       "121  Emiratos Árabes Unidos                 118.0         78.12   \n",
       "122             Reino Unido                 281.0         80.90   \n",
       "123          Estados Unidos                  36.0         77.28   \n",
       "124                 Uruguay                  20.0         78.06   \n",
       "125                  Zambia                  25.0         64.19   \n",
       "\n",
       "     internet(%)-2023  inflacion(%)-2023 PIB(anual, Eur)-2023 continente  \n",
       "0                83.1           4.759764                25122     Europa  \n",
       "1                76.9           9.322174               221957     África  \n",
       "2                44.8          13.644102                83029     África  \n",
       "3                77.6           5.067139                 1880    América  \n",
       "4                80.0           1.980419                22262       Asia  \n",
       "..                ...                ...                  ...        ...  \n",
       "121             100.0           1.626708               475351       Asia  \n",
       "122              96.3           6.793967              3364019     Europa  \n",
       "123              93.1           4.116338             26962619    América  \n",
       "124              89.9           5.869104                71415    América  \n",
       "125              33.0          10.884532                25482     África  \n",
       "\n",
       "[126 rows x 7 columns]"
      ]
     },
     "execution_count": 173,
     "metadata": {},
     "output_type": "execute_result"
    }
   ],
   "source": [
    "data['EV(age)-2020'] = data['EV(age)-2020'].astype(float)\n",
    "data"
   ]
  },
  {
   "cell_type": "code",
   "execution_count": 174,
   "metadata": {},
   "outputs": [
    {
     "data": {
      "text/html": [
       "<div>\n",
       "<style scoped>\n",
       "    .dataframe tbody tr th:only-of-type {\n",
       "        vertical-align: middle;\n",
       "    }\n",
       "\n",
       "    .dataframe tbody tr th {\n",
       "        vertical-align: top;\n",
       "    }\n",
       "\n",
       "    .dataframe thead th {\n",
       "        text-align: right;\n",
       "    }\n",
       "</style>\n",
       "<table border=\"1\" class=\"dataframe\">\n",
       "  <thead>\n",
       "    <tr style=\"text-align: right;\">\n",
       "      <th></th>\n",
       "      <th>pais</th>\n",
       "      <th>Densidad(P/Km2)-2023</th>\n",
       "      <th>EV(age)-2020</th>\n",
       "      <th>internet(%)-2023</th>\n",
       "      <th>inflacion(%)-2023</th>\n",
       "      <th>PIB(anual, Eur)-2023</th>\n",
       "      <th>continente</th>\n",
       "    </tr>\n",
       "  </thead>\n",
       "  <tbody>\n",
       "    <tr>\n",
       "      <th>0</th>\n",
       "      <td>Albania</td>\n",
       "      <td>105.0</td>\n",
       "      <td>78.69</td>\n",
       "      <td>83.1</td>\n",
       "      <td>4.759764</td>\n",
       "      <td>25122.0</td>\n",
       "      <td>Europa</td>\n",
       "    </tr>\n",
       "    <tr>\n",
       "      <th>1</th>\n",
       "      <td>Argelia</td>\n",
       "      <td>18.0</td>\n",
       "      <td>77.06</td>\n",
       "      <td>76.9</td>\n",
       "      <td>9.322174</td>\n",
       "      <td>221957.0</td>\n",
       "      <td>África</td>\n",
       "    </tr>\n",
       "    <tr>\n",
       "      <th>2</th>\n",
       "      <td>Angola</td>\n",
       "      <td>26.0</td>\n",
       "      <td>61.49</td>\n",
       "      <td>44.8</td>\n",
       "      <td>13.644102</td>\n",
       "      <td>83029.0</td>\n",
       "      <td>África</td>\n",
       "    </tr>\n",
       "    <tr>\n",
       "      <th>3</th>\n",
       "      <td>Antigua y Barbuda</td>\n",
       "      <td>223.0</td>\n",
       "      <td>77.15</td>\n",
       "      <td>77.6</td>\n",
       "      <td>5.067139</td>\n",
       "      <td>1880.0</td>\n",
       "      <td>América</td>\n",
       "    </tr>\n",
       "    <tr>\n",
       "      <th>4</th>\n",
       "      <td>Armenia</td>\n",
       "      <td>104.0</td>\n",
       "      <td>75.22</td>\n",
       "      <td>80.0</td>\n",
       "      <td>1.980419</td>\n",
       "      <td>22262.0</td>\n",
       "      <td>Asia</td>\n",
       "    </tr>\n",
       "    <tr>\n",
       "      <th>...</th>\n",
       "      <td>...</td>\n",
       "      <td>...</td>\n",
       "      <td>...</td>\n",
       "      <td>...</td>\n",
       "      <td>...</td>\n",
       "      <td>...</td>\n",
       "      <td>...</td>\n",
       "    </tr>\n",
       "    <tr>\n",
       "      <th>121</th>\n",
       "      <td>Emiratos Árabes Unidos</td>\n",
       "      <td>118.0</td>\n",
       "      <td>78.12</td>\n",
       "      <td>100.0</td>\n",
       "      <td>1.626708</td>\n",
       "      <td>475351.0</td>\n",
       "      <td>Asia</td>\n",
       "    </tr>\n",
       "    <tr>\n",
       "      <th>122</th>\n",
       "      <td>Reino Unido</td>\n",
       "      <td>281.0</td>\n",
       "      <td>80.90</td>\n",
       "      <td>96.3</td>\n",
       "      <td>6.793967</td>\n",
       "      <td>3364019.0</td>\n",
       "      <td>Europa</td>\n",
       "    </tr>\n",
       "    <tr>\n",
       "      <th>123</th>\n",
       "      <td>Estados Unidos</td>\n",
       "      <td>36.0</td>\n",
       "      <td>77.28</td>\n",
       "      <td>93.1</td>\n",
       "      <td>4.116338</td>\n",
       "      <td>26962619.0</td>\n",
       "      <td>América</td>\n",
       "    </tr>\n",
       "    <tr>\n",
       "      <th>124</th>\n",
       "      <td>Uruguay</td>\n",
       "      <td>20.0</td>\n",
       "      <td>78.06</td>\n",
       "      <td>89.9</td>\n",
       "      <td>5.869104</td>\n",
       "      <td>71415.0</td>\n",
       "      <td>América</td>\n",
       "    </tr>\n",
       "    <tr>\n",
       "      <th>125</th>\n",
       "      <td>Zambia</td>\n",
       "      <td>25.0</td>\n",
       "      <td>64.19</td>\n",
       "      <td>33.0</td>\n",
       "      <td>10.884532</td>\n",
       "      <td>25482.0</td>\n",
       "      <td>África</td>\n",
       "    </tr>\n",
       "  </tbody>\n",
       "</table>\n",
       "<p>126 rows × 7 columns</p>\n",
       "</div>"
      ],
      "text/plain": [
       "                       pais  Densidad(P/Km2)-2023  EV(age)-2020  \\\n",
       "0                   Albania                 105.0         78.69   \n",
       "1                   Argelia                  18.0         77.06   \n",
       "2                    Angola                  26.0         61.49   \n",
       "3         Antigua y Barbuda                 223.0         77.15   \n",
       "4                   Armenia                 104.0         75.22   \n",
       "..                      ...                   ...           ...   \n",
       "121  Emiratos Árabes Unidos                 118.0         78.12   \n",
       "122             Reino Unido                 281.0         80.90   \n",
       "123          Estados Unidos                  36.0         77.28   \n",
       "124                 Uruguay                  20.0         78.06   \n",
       "125                  Zambia                  25.0         64.19   \n",
       "\n",
       "     internet(%)-2023  inflacion(%)-2023  PIB(anual, Eur)-2023 continente  \n",
       "0                83.1           4.759764               25122.0     Europa  \n",
       "1                76.9           9.322174              221957.0     África  \n",
       "2                44.8          13.644102               83029.0     África  \n",
       "3                77.6           5.067139                1880.0    América  \n",
       "4                80.0           1.980419               22262.0       Asia  \n",
       "..                ...                ...                   ...        ...  \n",
       "121             100.0           1.626708              475351.0       Asia  \n",
       "122              96.3           6.793967             3364019.0     Europa  \n",
       "123              93.1           4.116338            26962619.0    América  \n",
       "124              89.9           5.869104               71415.0    América  \n",
       "125              33.0          10.884532               25482.0     África  \n",
       "\n",
       "[126 rows x 7 columns]"
      ]
     },
     "execution_count": 174,
     "metadata": {},
     "output_type": "execute_result"
    }
   ],
   "source": [
    "data['PIB(anual, Eur)-2023'] = data['PIB(anual, Eur)-2023'].astype(float)\n",
    "data"
   ]
  },
  {
   "cell_type": "code",
   "execution_count": 175,
   "metadata": {},
   "outputs": [
    {
     "name": "stdout",
     "output_type": "stream",
     "text": [
      "pais                     object\n",
      "Densidad(P/Km2)-2023    float64\n",
      "EV(age)-2020            float64\n",
      "internet(%)-2023        float64\n",
      "inflacion(%)-2023       float64\n",
      "PIB(anual, Eur)-2023    float64\n",
      "continente               object\n",
      "dtype: object\n"
     ]
    }
   ],
   "source": [
    "print(data.dtypes)"
   ]
  },
  {
   "cell_type": "markdown",
   "metadata": {},
   "source": [
    "### EDA"
   ]
  },
  {
   "cell_type": "code",
   "execution_count": 176,
   "metadata": {},
   "outputs": [],
   "source": [
    "types = [str(tipo) for tipo in data.dtypes.values]\n",
    "vars = list(data.dtypes.index)"
   ]
  },
  {
   "cell_type": "code",
   "execution_count": 177,
   "metadata": {},
   "outputs": [
    {
     "data": {
      "text/plain": [
       "['pais', 'continente']"
      ]
     },
     "execution_count": 177,
     "metadata": {},
     "output_type": "execute_result"
    }
   ],
   "source": [
    "var_cualit = [vars[i] for i, tipo in enumerate(types) if tipo == \"object\"]\n",
    "var_cualit"
   ]
  },
  {
   "cell_type": "code",
   "execution_count": 178,
   "metadata": {},
   "outputs": [
    {
     "data": {
      "text/plain": [
       "['Densidad(P/Km2)-2023',\n",
       " 'EV(age)-2020',\n",
       " 'internet(%)-2023',\n",
       " 'inflacion(%)-2023',\n",
       " 'PIB(anual, Eur)-2023']"
      ]
     },
     "execution_count": 178,
     "metadata": {},
     "output_type": "execute_result"
    }
   ],
   "source": [
    "var_cuanti =  [vars[i] for i, tipo in enumerate(types) if tipo != \"object\"]\n",
    "var_cuanti"
   ]
  },
  {
   "cell_type": "code",
   "execution_count": 179,
   "metadata": {},
   "outputs": [
    {
     "data": {
      "text/html": [
       "<div>\n",
       "<style scoped>\n",
       "    .dataframe tbody tr th:only-of-type {\n",
       "        vertical-align: middle;\n",
       "    }\n",
       "\n",
       "    .dataframe tbody tr th {\n",
       "        vertical-align: top;\n",
       "    }\n",
       "\n",
       "    .dataframe thead th {\n",
       "        text-align: right;\n",
       "    }\n",
       "</style>\n",
       "<table border=\"1\" class=\"dataframe\">\n",
       "  <thead>\n",
       "    <tr style=\"text-align: right;\">\n",
       "      <th></th>\n",
       "      <th>Densidad(P/Km2)-2023</th>\n",
       "      <th>EV(age)-2020</th>\n",
       "      <th>internet(%)-2023</th>\n",
       "      <th>inflacion(%)-2023</th>\n",
       "      <th>PIB(anual, Eur)-2023</th>\n",
       "    </tr>\n",
       "  </thead>\n",
       "  <tbody>\n",
       "    <tr>\n",
       "      <th>count</th>\n",
       "      <td>126.000000</td>\n",
       "      <td>126.000000</td>\n",
       "      <td>126.000000</td>\n",
       "      <td>126.000000</td>\n",
       "      <td>1.260000e+02</td>\n",
       "    </tr>\n",
       "    <tr>\n",
       "      <th>mean</th>\n",
       "      <td>228.468254</td>\n",
       "      <td>73.733254</td>\n",
       "      <td>73.128571</td>\n",
       "      <td>9.510157</td>\n",
       "      <td>5.618773e+05</td>\n",
       "    </tr>\n",
       "    <tr>\n",
       "      <th>std</th>\n",
       "      <td>780.164369</td>\n",
       "      <td>6.988102</td>\n",
       "      <td>24.739254</td>\n",
       "      <td>20.639235</td>\n",
       "      <td>2.484071e+06</td>\n",
       "    </tr>\n",
       "    <tr>\n",
       "      <th>min</th>\n",
       "      <td>2.000000</td>\n",
       "      <td>54.510000</td>\n",
       "      <td>11.100000</td>\n",
       "      <td>-1.035301</td>\n",
       "      <td>2.580000e+02</td>\n",
       "    </tr>\n",
       "    <tr>\n",
       "      <th>25%</th>\n",
       "      <td>27.000000</td>\n",
       "      <td>70.027500</td>\n",
       "      <td>61.625000</td>\n",
       "      <td>3.706824</td>\n",
       "      <td>1.834200e+04</td>\n",
       "    </tr>\n",
       "    <tr>\n",
       "      <th>50%</th>\n",
       "      <td>91.500000</td>\n",
       "      <td>75.175000</td>\n",
       "      <td>82.700000</td>\n",
       "      <td>5.801133</td>\n",
       "      <td>6.692050e+04</td>\n",
       "    </tr>\n",
       "    <tr>\n",
       "      <th>75%</th>\n",
       "      <td>212.000000</td>\n",
       "      <td>78.597500</td>\n",
       "      <td>90.850000</td>\n",
       "      <td>9.072501</td>\n",
       "      <td>3.363180e+05</td>\n",
       "    </tr>\n",
       "    <tr>\n",
       "      <th>max</th>\n",
       "      <td>8358.000000</td>\n",
       "      <td>84.620000</td>\n",
       "      <td>100.000000</td>\n",
       "      <td>221.341644</td>\n",
       "      <td>2.696262e+07</td>\n",
       "    </tr>\n",
       "  </tbody>\n",
       "</table>\n",
       "</div>"
      ],
      "text/plain": [
       "       Densidad(P/Km2)-2023  EV(age)-2020  internet(%)-2023  \\\n",
       "count            126.000000    126.000000        126.000000   \n",
       "mean             228.468254     73.733254         73.128571   \n",
       "std              780.164369      6.988102         24.739254   \n",
       "min                2.000000     54.510000         11.100000   \n",
       "25%               27.000000     70.027500         61.625000   \n",
       "50%               91.500000     75.175000         82.700000   \n",
       "75%              212.000000     78.597500         90.850000   \n",
       "max             8358.000000     84.620000        100.000000   \n",
       "\n",
       "       inflacion(%)-2023  PIB(anual, Eur)-2023  \n",
       "count         126.000000          1.260000e+02  \n",
       "mean            9.510157          5.618773e+05  \n",
       "std            20.639235          2.484071e+06  \n",
       "min            -1.035301          2.580000e+02  \n",
       "25%             3.706824          1.834200e+04  \n",
       "50%             5.801133          6.692050e+04  \n",
       "75%             9.072501          3.363180e+05  \n",
       "max           221.341644          2.696262e+07  "
      ]
     },
     "execution_count": 179,
     "metadata": {},
     "output_type": "execute_result"
    }
   ],
   "source": [
    "data[var_cuanti]. describe()"
   ]
  },
  {
   "cell_type": "code",
   "execution_count": 206,
   "metadata": {},
   "outputs": [
    {
     "name": "stdout",
     "output_type": "stream",
     "text": [
      "106    Singapur\n",
      "Name: pais, dtype: object\n"
     ]
    }
   ],
   "source": [
    "pais_filtrado = data.loc[data['Densidad(P/Km2)-2023'] == 8358.00, 'pais']\n",
    "print(pais_filtrado)\n"
   ]
  },
  {
   "cell_type": "code",
   "execution_count": 207,
   "metadata": {},
   "outputs": [
    {
     "name": "stdout",
     "output_type": "stream",
     "text": [
      "14    11.0\n",
      "Name: Densidad(P/Km2)-2023, dtype: float64\n"
     ]
    }
   ],
   "source": [
    "densidad_filtrada= data.loc[data['pais'] == 'Bolivia', 'Densidad(P/Km2)-2023']\n",
    "print(densidad_filtrada)"
   ]
  },
  {
   "cell_type": "code",
   "execution_count": 180,
   "metadata": {},
   "outputs": [
    {
     "data": {
      "text/html": [
       "<div>\n",
       "<style scoped>\n",
       "    .dataframe tbody tr th:only-of-type {\n",
       "        vertical-align: middle;\n",
       "    }\n",
       "\n",
       "    .dataframe tbody tr th {\n",
       "        vertical-align: top;\n",
       "    }\n",
       "\n",
       "    .dataframe thead th {\n",
       "        text-align: right;\n",
       "    }\n",
       "</style>\n",
       "<table border=\"1\" class=\"dataframe\">\n",
       "  <thead>\n",
       "    <tr style=\"text-align: right;\">\n",
       "      <th></th>\n",
       "      <th>Variable</th>\n",
       "      <th>count</th>\n",
       "      <th>mean</th>\n",
       "      <th>std</th>\n",
       "      <th>min</th>\n",
       "      <th>25%</th>\n",
       "      <th>50%</th>\n",
       "      <th>75%</th>\n",
       "      <th>max</th>\n",
       "    </tr>\n",
       "  </thead>\n",
       "  <tbody>\n",
       "    <tr>\n",
       "      <th>0</th>\n",
       "      <td>Densidad(P/Km2)-2023</td>\n",
       "      <td>126.0</td>\n",
       "      <td>228.468254</td>\n",
       "      <td>7.801644e+02</td>\n",
       "      <td>2.000000</td>\n",
       "      <td>27.000000</td>\n",
       "      <td>91.500000</td>\n",
       "      <td>212.000000</td>\n",
       "      <td>8.358000e+03</td>\n",
       "    </tr>\n",
       "    <tr>\n",
       "      <th>1</th>\n",
       "      <td>EV(age)-2020</td>\n",
       "      <td>126.0</td>\n",
       "      <td>73.733254</td>\n",
       "      <td>6.988102e+00</td>\n",
       "      <td>54.510000</td>\n",
       "      <td>70.027500</td>\n",
       "      <td>75.175000</td>\n",
       "      <td>78.597500</td>\n",
       "      <td>8.462000e+01</td>\n",
       "    </tr>\n",
       "    <tr>\n",
       "      <th>2</th>\n",
       "      <td>internet(%)-2023</td>\n",
       "      <td>126.0</td>\n",
       "      <td>73.128571</td>\n",
       "      <td>2.473925e+01</td>\n",
       "      <td>11.100000</td>\n",
       "      <td>61.625000</td>\n",
       "      <td>82.700000</td>\n",
       "      <td>90.850000</td>\n",
       "      <td>1.000000e+02</td>\n",
       "    </tr>\n",
       "    <tr>\n",
       "      <th>3</th>\n",
       "      <td>inflacion(%)-2023</td>\n",
       "      <td>126.0</td>\n",
       "      <td>9.510157</td>\n",
       "      <td>2.063924e+01</td>\n",
       "      <td>-1.035301</td>\n",
       "      <td>3.706824</td>\n",
       "      <td>5.801133</td>\n",
       "      <td>9.072501</td>\n",
       "      <td>2.213416e+02</td>\n",
       "    </tr>\n",
       "    <tr>\n",
       "      <th>4</th>\n",
       "      <td>PIB(anual, Eur)-2023</td>\n",
       "      <td>126.0</td>\n",
       "      <td>561877.349206</td>\n",
       "      <td>2.484071e+06</td>\n",
       "      <td>258.000000</td>\n",
       "      <td>18342.000000</td>\n",
       "      <td>66920.500000</td>\n",
       "      <td>336318.000000</td>\n",
       "      <td>2.696262e+07</td>\n",
       "    </tr>\n",
       "  </tbody>\n",
       "</table>\n",
       "</div>"
      ],
      "text/plain": [
       "               Variable  count           mean           std         min  \\\n",
       "0  Densidad(P/Km2)-2023  126.0     228.468254  7.801644e+02    2.000000   \n",
       "1          EV(age)-2020  126.0      73.733254  6.988102e+00   54.510000   \n",
       "2      internet(%)-2023  126.0      73.128571  2.473925e+01   11.100000   \n",
       "3     inflacion(%)-2023  126.0       9.510157  2.063924e+01   -1.035301   \n",
       "4  PIB(anual, Eur)-2023  126.0  561877.349206  2.484071e+06  258.000000   \n",
       "\n",
       "            25%           50%            75%           max  \n",
       "0     27.000000     91.500000     212.000000  8.358000e+03  \n",
       "1     70.027500     75.175000      78.597500  8.462000e+01  \n",
       "2     61.625000     82.700000      90.850000  1.000000e+02  \n",
       "3      3.706824      5.801133       9.072501  2.213416e+02  \n",
       "4  18342.000000  66920.500000  336318.000000  2.696262e+07  "
      ]
     },
     "execution_count": 180,
     "metadata": {},
     "output_type": "execute_result"
    }
   ],
   "source": [
    "descriptivo = data[var_cuanti].describe().transpose().reset_index().rename(columns={\"index\": \"Variable\"})\n",
    "descriptivo"
   ]
  },
  {
   "cell_type": "code",
   "execution_count": 181,
   "metadata": {},
   "outputs": [
    {
     "data": {
      "text/plain": [
       "<Axes: ylabel='Frequency'>"
      ]
     },
     "execution_count": 181,
     "metadata": {},
     "output_type": "execute_result"
    },
    {
     "data": {
      "image/png": "[encoded data removed]",
      "text/plain": [
       "<Figure size 640x480 with 1 Axes>"
      ]
     },
     "metadata": {},
     "output_type": "display_data"
    }
   ],
   "source": [
    "data['Densidad(P/Km2)-2023'].plot(kind=\"hist\")"
   ]
  },
  {
   "cell_type": "code",
   "execution_count": 186,
   "metadata": {},
   "outputs": [
    {
     "data": {
      "text/plain": [
       "<Axes: >"
      ]
     },
     "execution_count": 186,
     "metadata": {},
     "output_type": "execute_result"
    },
    {
     "data": {
      "image/png": "[encoded data removed]",
      "text/plain": [
       "<Figure size 640x480 with 1 Axes>"
      ]
     },
     "metadata": {},
     "output_type": "display_data"
    }
   ],
   "source": [
    "data['Densidad(P/Km2)-2023'].plot(kind=\"box\")"
   ]
  },
  {
   "cell_type": "code",
   "execution_count": 182,
   "metadata": {},
   "outputs": [
    {
     "data": {
      "text/plain": [
       "<Axes: ylabel='Frequency'>"
      ]
     },
     "execution_count": 182,
     "metadata": {},
     "output_type": "execute_result"
    },
    {
     "data": {
      "image/png": "[encoded data removed]",
      "text/plain": [
       "<Figure size 640x480 with 1 Axes>"
      ]
     },
     "metadata": {},
     "output_type": "display_data"
    }
   ],
   "source": [
    "data['EV(age)-2020'].plot(kind=\"hist\")"
   ]
  },
  {
   "cell_type": "code",
   "execution_count": 210,
   "metadata": {},
   "outputs": [
    {
     "name": "stdout",
     "output_type": "stream",
     "text": [
      "25    Chad\n",
      "Name: pais, dtype: object 54.51 25    África\n",
      "Name: continente, dtype: object\n"
     ]
    }
   ],
   "source": [
    "pais_filtrado = data.loc[data['EV(age)-2020'] == data['EV(age)-2020'].min(), 'pais'] \n",
    "continente_filtrado = data.loc[data['EV(age)-2020'] == data['EV(age)-2020'].min(), 'continente']\n",
    "print(pais_filtrado, data['EV(age)-2020'].min(), continente_filtrado)"
   ]
  },
  {
   "cell_type": "code",
   "execution_count": 212,
   "metadata": {},
   "outputs": [
    {
     "name": "stdout",
     "output_type": "stream",
     "text": [
      "58    Japón\n",
      "Name: pais, dtype: object 84.62 58    Asia\n",
      "Name: continente, dtype: object\n"
     ]
    }
   ],
   "source": [
    "pais_filtrado = data.loc[data['EV(age)-2020'] == data['EV(age)-2020'].max(), 'pais'] \n",
    "continente_filtrado = data.loc[data['EV(age)-2020'] == data['EV(age)-2020'].max(), 'continente']\n",
    "print(pais_filtrado, data['EV(age)-2020'].max(), continente_filtrado)"
   ]
  },
  {
   "cell_type": "code",
   "execution_count": 187,
   "metadata": {},
   "outputs": [
    {
     "data": {
      "text/plain": [
       "<Axes: >"
      ]
     },
     "execution_count": 187,
     "metadata": {},
     "output_type": "execute_result"
    },
    {
     "data": {
      "image/png": "[encoded data removed]",
      "text/plain": [
       "<Figure size 640x480 with 1 Axes>"
      ]
     },
     "metadata": {},
     "output_type": "display_data"
    }
   ],
   "source": [
    "data['EV(age)-2020'].plot(kind=\"box\")"
   ]
  },
  {
   "cell_type": "code",
   "execution_count": null,
   "metadata": {},
   "outputs": [
    {
     "data": {
      "text/plain": [
       "<Axes: ylabel='Frequency'>"
      ]
     },
     "execution_count": 183,
     "metadata": {},
     "output_type": "execute_result"
    },
    {
     "data": {
      "image/png": "[encoded data removed]",
      "text/plain": [
       "<Figure size 640x480 with 1 Axes>"
      ]
     },
     "metadata": {},
     "output_type": "display_data"
    }
   ],
   "source": [
    "data['PIB(anual, Eur)-2023'].plot(kind=\"hist\")"
   ]
  },
  {
   "cell_type": "code",
   "execution_count": 188,
   "metadata": {},
   "outputs": [
    {
     "data": {
      "text/plain": [
       "<Axes: >"
      ]
     },
     "execution_count": 188,
     "metadata": {},
     "output_type": "execute_result"
    },
    {
     "data": {
      "image/png": "[encoded data removed]",
      "text/plain": [
       "<Figure size 640x480 with 1 Axes>"
      ]
     },
     "metadata": {},
     "output_type": "display_data"
    }
   ],
   "source": [
    "data['PIB(anual, Eur)-2023'].plot(kind=\"box\")"
   ]
  },
  {
   "cell_type": "code",
   "execution_count": 189,
   "metadata": {},
   "outputs": [
    {
     "data": {
      "text/plain": [
       "<Axes: ylabel='Frequency'>"
      ]
     },
     "execution_count": 189,
     "metadata": {},
     "output_type": "execute_result"
    },
    {
     "data": {
      "image/png": "[encoded data removed]",
      "text/plain": [
       "<Figure size 640x480 with 1 Axes>"
      ]
     },
     "metadata": {},
     "output_type": "display_data"
    }
   ],
   "source": [
    "data['inflacion(%)-2023'].plot(kind=\"hist\")"
   ]
  },
  {
   "cell_type": "code",
   "execution_count": null,
   "metadata": {},
   "outputs": [
    {
     "data": {
      "text/plain": [
       "<Axes: >"
      ]
     },
     "execution_count": 190,
     "metadata": {},
     "output_type": "execute_result"
    },
    {
     "data": {
      "image/png": "[encoded data removed]",
      "text/plain": [
       "<Figure size 640x480 with 1 Axes>"
      ]
     },
     "metadata": {},
     "output_type": "display_data"
    }
   ],
   "source": [
    "data['inflacion(%)-2023'].plot(kind=\"box\")"
   ]
  },
  {
   "cell_type": "code",
   "execution_count": 185,
   "metadata": {},
   "outputs": [
    {
     "data": {
      "text/plain": [
       "<Axes: ylabel='Frequency'>"
      ]
     },
     "execution_count": 185,
     "metadata": {},
     "output_type": "execute_result"
    },
    {
     "data": {
      "image/png": "[encoded data removed]",
      "text/plain": [
       "<Figure size 640x480 with 1 Axes>"
      ]
     },
     "metadata": {},
     "output_type": "display_data"
    }
   ],
   "source": [
    "data['internet(%)-2023'].plot(kind=\"hist\")"
   ]
  },
  {
   "cell_type": "code",
   "execution_count": 213,
   "metadata": {},
   "outputs": [
    {
     "name": "stdout",
     "output_type": "stream",
     "text": [
      "8                     Bahrain\n",
      "101            Arabia Saudita\n",
      "121    Emiratos Árabes Unidos\n",
      "Name: pais, dtype: object 100.0 8      Asia\n",
      "101    Asia\n",
      "121    Asia\n",
      "Name: continente, dtype: object\n"
     ]
    }
   ],
   "source": [
    "pais_filtrado = data.loc[data['internet(%)-2023'] == data['internet(%)-2023'].max(), 'pais']\n",
    "continente_filtrado = data.loc[data['internet(%)-2023'] == data['internet(%)-2023'].max(), 'continente']\n",
    "print(pais_filtrado, data['internet(%)-2023'].max(), continente_filtrado)"
   ]
  },
  {
   "cell_type": "code",
   "execution_count": 191,
   "metadata": {},
   "outputs": [
    {
     "data": {
      "text/plain": [
       "<Axes: >"
      ]
     },
     "execution_count": 191,
     "metadata": {},
     "output_type": "execute_result"
    },
    {
     "data": {
      "image/png": "[encoded data removed]",
      "text/plain": [
       "<Figure size 640x480 with 1 Axes>"
      ]
     },
     "metadata": {},
     "output_type": "display_data"
    }
   ],
   "source": [
    "data['internet(%)-2023'].plot(kind=\"box\")"
   ]
  },
  {
   "cell_type": "code",
   "execution_count": 204,
   "metadata": {},
   "outputs": [
    {
     "data": {
      "image/png": "[encoded data removed]",
      "text/plain": [
       "<Figure size 640x480 with 1 Axes>"
      ]
     },
     "metadata": {},
     "output_type": "display_data"
    }
   ],
   "source": [
    "G = data.groupby(\"continente\")\n",
    "G[\"EV(age)-2020\"].mean().plot(kind=\"bar\") \n",
    "plt.title(\"Años de esperanza de vida promedio de cada continente\")\n",
    "\n",
    "plt.show()"
   ]
  },
  {
   "cell_type": "code",
   "execution_count": 203,
   "metadata": {},
   "outputs": [
    {
     "data": {
      "image/png": "[encoded data removed]",
      "text/plain": [
       "<Figure size 640x480 with 1 Axes>"
      ]
     },
     "metadata": {},
     "output_type": "display_data"
    }
   ],
   "source": [
    "G = data.groupby(\"continente\")\n",
    "G[\"internet(%)-2023\"].mean().plot(kind=\"bar\")\n",
    "plt.title(\"Acceso a internet promedio de cada continente\")\n",
    "\n",
    "plt.show()"
   ]
  },
  {
   "cell_type": "code",
   "execution_count": 202,
   "metadata": {},
   "outputs": [
    {
     "data": {
      "image/png": "[encoded data removed]",
      "text/plain": [
       "<Figure size 640x480 with 1 Axes>"
      ]
     },
     "metadata": {},
     "output_type": "display_data"
    }
   ],
   "source": [
    "G = data.groupby(\"continente\")\n",
    "G[\"inflacion(%)-2023\"].mean().plot(kind=\"bar\")\n",
    "plt.title(\"Inflacion promedio de cada continente\")\n",
    "\n",
    "plt.show()"
   ]
  },
  {
   "cell_type": "code",
   "execution_count": 200,
   "metadata": {},
   "outputs": [
    {
     "data": {
      "image/png": "[encoded data removed]",
      "text/plain": [
       "<Figure size 640x480 with 1 Axes>"
      ]
     },
     "metadata": {},
     "output_type": "display_data"
    }
   ],
   "source": [
    "# PIB promedio de cada continente\n",
    "G = data.groupby(\"continente\")\n",
    "G[\"PIB(anual, Eur)-2023\"].mean().plot(kind=\"bar\")\n",
    "plt.title(\"PIB promedio de cada continente\")\n",
    "\n",
    "plt.show()\n"
   ]
  },
  {
   "cell_type": "code",
   "execution_count": 198,
   "metadata": {},
   "outputs": [
    {
     "data": {
      "image/png": "[encoded data removed]",
      "text/plain": [
       "<Figure size 900x600 with 2 Axes>"
      ]
     },
     "metadata": {},
     "output_type": "display_data"
    }
   ],
   "source": [
    "import matplotlib.pyplot as plt\n",
    "import seaborn as sns\n",
    "sns.set_theme()\n",
    "\n",
    "# carga el data set\n",
    "corr = data[var_cuanti].corr()\n",
    "\n",
    "# mapa de calor\n",
    "f, ax = plt.subplots(figsize=(9, 6))\n",
    "sns.heatmap(corr, linewidths= .5, ax=ax, cmap=\"YlGnBu\", annot=True)\n",
    "plt.show()"
   ]
  }
 ],
 "metadata": {
  "kernelspec": {
   "display_name": "scrapi",
   "language": "python",
   "name": "python3"
  },
  "language_info": {
   "codemirror_mode": {
    "name": "ipython",
    "version": 3
   },
   "file_extension": ".py",
   "mimetype": "text/x-python",
   "name": "python",
   "nbconvert_exporter": "python",
   "pygments_lexer": "ipython3",
   "version": "3.12.7"
  }
 },
 "nbformat": 4,
 "nbformat_minor": 2
}
